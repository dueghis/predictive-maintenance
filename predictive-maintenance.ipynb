{
 "cells": [
  {
   "cell_type": "code",
   "execution_count": 1,
   "metadata": {},
   "outputs": [],
   "source": [
    "import os\n",
    "import numpy as np\n",
    "import pandas as pd\n",
    "import matplotlib.pyplot as plt"
   ]
  },
  {
   "cell_type": "markdown",
   "metadata": {},
   "source": [
    "## BACKGROUND\n",
    "A company has a fleet of devices transmitting daily telemetry readings. They would like to create a predictive\n",
    "maintenance solution to proactively identify when maintenance should be performed. This approach promises cost\n",
    "savings over routine or time-based preventive maintenance, because tasks are performed only when warranted.\n",
    "\n",
    "## GOAL\n",
    "You are tasked with building a predictive model using machine learning to predict the probability of a device failure.\n",
    "When building this model, be sure to minimize false positives and false negatives. The column you are trying to predict\n",
    "is called failure with binary value 0 for non-failure and 1 for failure.\n",
    "\n",
    "## DATA\n",
    "Download link: http://aws-proserve-data-science.s3.amazonaws.com/predictive_maintenance.csv"
   ]
  },
  {
   "cell_type": "markdown",
   "metadata": {},
   "source": [
    "Download and read in the dataset"
   ]
  },
  {
   "cell_type": "code",
   "execution_count": 2,
   "metadata": {},
   "outputs": [],
   "source": [
    "if not os.path.isfile('predictive_maintenance.csv'):\n",
    "    !wget 'http://aws-proserve-data-science.s3.amazonaws.com/predictive_maintenance.csv'"
   ]
  },
  {
   "cell_type": "code",
   "execution_count": 3,
   "metadata": {},
   "outputs": [
    {
     "data": {
      "text/html": [
       "<div>\n",
       "<style scoped>\n",
       "    .dataframe tbody tr th:only-of-type {\n",
       "        vertical-align: middle;\n",
       "    }\n",
       "\n",
       "    .dataframe tbody tr th {\n",
       "        vertical-align: top;\n",
       "    }\n",
       "\n",
       "    .dataframe thead th {\n",
       "        text-align: right;\n",
       "    }\n",
       "</style>\n",
       "<table border=\"1\" class=\"dataframe\">\n",
       "  <thead>\n",
       "    <tr style=\"text-align: right;\">\n",
       "      <th></th>\n",
       "      <th>device</th>\n",
       "      <th>failure</th>\n",
       "      <th>metric1</th>\n",
       "      <th>metric2</th>\n",
       "      <th>metric3</th>\n",
       "      <th>metric4</th>\n",
       "      <th>metric5</th>\n",
       "      <th>metric6</th>\n",
       "      <th>metric7</th>\n",
       "      <th>metric8</th>\n",
       "      <th>metric9</th>\n",
       "    </tr>\n",
       "    <tr>\n",
       "      <th>date</th>\n",
       "      <th></th>\n",
       "      <th></th>\n",
       "      <th></th>\n",
       "      <th></th>\n",
       "      <th></th>\n",
       "      <th></th>\n",
       "      <th></th>\n",
       "      <th></th>\n",
       "      <th></th>\n",
       "      <th></th>\n",
       "      <th></th>\n",
       "    </tr>\n",
       "  </thead>\n",
       "  <tbody>\n",
       "    <tr>\n",
       "      <td>2015-01-01</td>\n",
       "      <td>S1F01085</td>\n",
       "      <td>0</td>\n",
       "      <td>215630672</td>\n",
       "      <td>56</td>\n",
       "      <td>0</td>\n",
       "      <td>52</td>\n",
       "      <td>6</td>\n",
       "      <td>407438</td>\n",
       "      <td>0</td>\n",
       "      <td>0</td>\n",
       "      <td>7</td>\n",
       "    </tr>\n",
       "    <tr>\n",
       "      <td>2015-01-01</td>\n",
       "      <td>S1F0166B</td>\n",
       "      <td>0</td>\n",
       "      <td>61370680</td>\n",
       "      <td>0</td>\n",
       "      <td>3</td>\n",
       "      <td>0</td>\n",
       "      <td>6</td>\n",
       "      <td>403174</td>\n",
       "      <td>0</td>\n",
       "      <td>0</td>\n",
       "      <td>0</td>\n",
       "    </tr>\n",
       "    <tr>\n",
       "      <td>2015-01-01</td>\n",
       "      <td>S1F01E6Y</td>\n",
       "      <td>0</td>\n",
       "      <td>173295968</td>\n",
       "      <td>0</td>\n",
       "      <td>0</td>\n",
       "      <td>0</td>\n",
       "      <td>12</td>\n",
       "      <td>237394</td>\n",
       "      <td>0</td>\n",
       "      <td>0</td>\n",
       "      <td>0</td>\n",
       "    </tr>\n",
       "    <tr>\n",
       "      <td>2015-01-01</td>\n",
       "      <td>S1F01JE0</td>\n",
       "      <td>0</td>\n",
       "      <td>79694024</td>\n",
       "      <td>0</td>\n",
       "      <td>0</td>\n",
       "      <td>0</td>\n",
       "      <td>6</td>\n",
       "      <td>410186</td>\n",
       "      <td>0</td>\n",
       "      <td>0</td>\n",
       "      <td>0</td>\n",
       "    </tr>\n",
       "    <tr>\n",
       "      <td>2015-01-01</td>\n",
       "      <td>S1F01R2B</td>\n",
       "      <td>0</td>\n",
       "      <td>135970480</td>\n",
       "      <td>0</td>\n",
       "      <td>0</td>\n",
       "      <td>0</td>\n",
       "      <td>15</td>\n",
       "      <td>313173</td>\n",
       "      <td>0</td>\n",
       "      <td>0</td>\n",
       "      <td>3</td>\n",
       "    </tr>\n",
       "  </tbody>\n",
       "</table>\n",
       "</div>"
      ],
      "text/plain": [
       "              device  failure    metric1  metric2  metric3  metric4  metric5  \\\n",
       "date                                                                           \n",
       "2015-01-01  S1F01085        0  215630672       56        0       52        6   \n",
       "2015-01-01  S1F0166B        0   61370680        0        3        0        6   \n",
       "2015-01-01  S1F01E6Y        0  173295968        0        0        0       12   \n",
       "2015-01-01  S1F01JE0        0   79694024        0        0        0        6   \n",
       "2015-01-01  S1F01R2B        0  135970480        0        0        0       15   \n",
       "\n",
       "            metric6  metric7  metric8  metric9  \n",
       "date                                            \n",
       "2015-01-01   407438        0        0        7  \n",
       "2015-01-01   403174        0        0        0  \n",
       "2015-01-01   237394        0        0        0  \n",
       "2015-01-01   410186        0        0        0  \n",
       "2015-01-01   313173        0        0        3  "
      ]
     },
     "execution_count": 3,
     "metadata": {},
     "output_type": "execute_result"
    }
   ],
   "source": [
    "df = pd.read_csv('predictive_maintenance.csv', parse_dates =['date'], index_col ='date')\n",
    "df.head()"
   ]
  },
  {
   "cell_type": "markdown",
   "metadata": {},
   "source": [
    "It looks like this is a time series because there is a date column. It looks like there are individual devices that are identified by `device` column. There are 9 `metric` columns.\n",
    "\n",
    "The task is to predict a failure so lets check and see how the `failure` column is distributed."
   ]
  },
  {
   "cell_type": "code",
   "execution_count": 4,
   "metadata": {},
   "outputs": [
    {
     "data": {
      "text/plain": [
       "0    124388\n",
       "1       106\n",
       "Name: failure, dtype: int64"
      ]
     },
     "execution_count": 4,
     "metadata": {},
     "output_type": "execute_result"
    }
   ],
   "source": [
    "df.failure.value_counts()"
   ]
  },
  {
   "cell_type": "markdown",
   "metadata": {},
   "source": [
    "This looks like a very imballanced dataset. There are 124,388 nonfailure instanes and 106 failures, which is a failure rate of less than 1%."
   ]
  },
  {
   "cell_type": "markdown",
   "metadata": {},
   "source": [
    "Lets see how many unique devices there are and how many of them have failures and how many of them don't have a failure."
   ]
  },
  {
   "cell_type": "code",
   "execution_count": 5,
   "metadata": {},
   "outputs": [
    {
     "name": "stdout",
     "output_type": "stream",
     "text": [
      "There are 1169 total devices\n",
      "There are 106 total failure devices\n"
     ]
    }
   ],
   "source": [
    "total_devices = len(df.device.unique())\n",
    "print('There are {} total devices'.format(total_devices))\n",
    "\n",
    "total_failure_devices = len(df[df.failure == 1].device.unique())\n",
    "print('There are {} total failure devices'.format(total_failure_devices))"
   ]
  },
  {
   "cell_type": "markdown",
   "metadata": {},
   "source": [
    "It appears that just under 10% of devices have a failure in this data set which is still imbalanced but much less so which viewed this way.\n",
    "\n",
    "Lets check how the data is distibuted through time."
   ]
  },
  {
   "cell_type": "code",
   "execution_count": 6,
   "metadata": {},
   "outputs": [
    {
     "name": "stderr",
     "output_type": "stream",
     "text": [
      "/Users/dueghis/opt/anaconda3/lib/python3.7/site-packages/pandas/plotting/_matplotlib/converter.py:103: FutureWarning: Using an implicitly registered datetime converter for a matplotlib plotting method. The converter was registered by pandas on import. Future versions of pandas will require you to explicitly register matplotlib converters.\n",
      "\n",
      "To register the converters:\n",
      "\t>>> from pandas.plotting import register_matplotlib_converters\n",
      "\t>>> register_matplotlib_converters()\n",
      "  warnings.warn(msg, FutureWarning)\n"
     ]
    },
    {
     "data": {
      "image/png": "[encoded data removed]",
      "text/plain": [
       "<Figure size 720x576 with 1 Axes>"
      ]
     },
     "metadata": {
      "needs_background": "light"
     },
     "output_type": "display_data"
    }
   ],
   "source": [
    "dates = df.failure.resample('D').count().index\n",
    "values = df.failure.resample('D').count().values\n",
    "fig, ax = plt.subplots(figsize = (10, 8))\n",
    "l_counts = ax.plot(dates, values, 'b-', label='Count of data instances on date')\n",
    "\n",
    "failures = df.failure.resample('D').sum()\n",
    "failure_dates = failures[failures.values>1].index\n",
    "failure_values = failures[failures.values>1].values\n",
    "l_falures = ax.plot(failure_dates, failure_values, 'ro', label='Non-zero count of failures on date')\n",
    "\n",
    "ax.set_ylabel('Number of Occurances')\n",
    "ax.set_xlabel('Date')\n",
    "ax.set_title('Data Distribution Through Time')\n",
    "ax.grid('on')\n",
    "_ = ax.legend(loc = 'best')"
   ]
  },
  {
   "cell_type": "markdown",
   "metadata": {},
   "source": [
    "The data spans less than one year and it is not uniformily distributed through time. It is front loaded. The failures appear to be grouped together but this may or may not be signifigant.\n",
    "\n",
    "Lets check to see the correlation between variables"
   ]
  },
  {
   "cell_type": "code",
   "execution_count": 7,
   "metadata": {},
   "outputs": [
    {
     "data": {
      "text/html": [
       "<style  type=\"text/css\" >\n",
       "    #T_1ec77226_13af_11ea_a5bb_34363bccd3acrow0_col0 {\n",
       "            background-color:  #b40426;\n",
       "            color:  #f1f1f1;\n",
       "        }    #T_1ec77226_13af_11ea_a5bb_34363bccd3acrow0_col1 {\n",
       "            background-color:  #3c4ec2;\n",
       "            color:  #f1f1f1;\n",
       "        }    #T_1ec77226_13af_11ea_a5bb_34363bccd3acrow0_col2 {\n",
       "            background-color:  #516ddb;\n",
       "            color:  #000000;\n",
       "        }    #T_1ec77226_13af_11ea_a5bb_34363bccd3acrow0_col3 {\n",
       "            background-color:  #3c4ec2;\n",
       "            color:  #f1f1f1;\n",
       "        }    #T_1ec77226_13af_11ea_a5bb_34363bccd3acrow0_col4 {\n",
       "            background-color:  #516ddb;\n",
       "            color:  #000000;\n",
       "        }    #T_1ec77226_13af_11ea_a5bb_34363bccd3acrow0_col5 {\n",
       "            background-color:  #3f53c6;\n",
       "            color:  #f1f1f1;\n",
       "        }    #T_1ec77226_13af_11ea_a5bb_34363bccd3acrow0_col6 {\n",
       "            background-color:  #4257c9;\n",
       "            color:  #f1f1f1;\n",
       "        }    #T_1ec77226_13af_11ea_a5bb_34363bccd3acrow0_col7 {\n",
       "            background-color:  #6384eb;\n",
       "            color:  #000000;\n",
       "        }    #T_1ec77226_13af_11ea_a5bb_34363bccd3acrow0_col8 {\n",
       "            background-color:  #6384eb;\n",
       "            color:  #000000;\n",
       "        }    #T_1ec77226_13af_11ea_a5bb_34363bccd3acrow0_col9 {\n",
       "            background-color:  #3c4ec2;\n",
       "            color:  #f1f1f1;\n",
       "        }    #T_1ec77226_13af_11ea_a5bb_34363bccd3acrow1_col0 {\n",
       "            background-color:  #3b4cc0;\n",
       "            color:  #f1f1f1;\n",
       "        }    #T_1ec77226_13af_11ea_a5bb_34363bccd3acrow1_col1 {\n",
       "            background-color:  #b40426;\n",
       "            color:  #f1f1f1;\n",
       "        }    #T_1ec77226_13af_11ea_a5bb_34363bccd3acrow1_col2 {\n",
       "            background-color:  #4055c8;\n",
       "            color:  #f1f1f1;\n",
       "        }    #T_1ec77226_13af_11ea_a5bb_34363bccd3acrow1_col3 {\n",
       "            background-color:  #3d50c3;\n",
       "            color:  #f1f1f1;\n",
       "        }    #T_1ec77226_13af_11ea_a5bb_34363bccd3acrow1_col4 {\n",
       "            background-color:  #3d50c3;\n",
       "            color:  #f1f1f1;\n",
       "        }    #T_1ec77226_13af_11ea_a5bb_34363bccd3acrow1_col5 {\n",
       "            background-color:  #3e51c5;\n",
       "            color:  #f1f1f1;\n",
       "        }    #T_1ec77226_13af_11ea_a5bb_34363bccd3acrow1_col6 {\n",
       "            background-color:  #4257c9;\n",
       "            color:  #f1f1f1;\n",
       "        }    #T_1ec77226_13af_11ea_a5bb_34363bccd3acrow1_col7 {\n",
       "            background-color:  #3e51c5;\n",
       "            color:  #f1f1f1;\n",
       "        }    #T_1ec77226_13af_11ea_a5bb_34363bccd3acrow1_col8 {\n",
       "            background-color:  #3e51c5;\n",
       "            color:  #f1f1f1;\n",
       "        }    #T_1ec77226_13af_11ea_a5bb_34363bccd3acrow1_col9 {\n",
       "            background-color:  #3b4cc0;\n",
       "            color:  #f1f1f1;\n",
       "        }    #T_1ec77226_13af_11ea_a5bb_34363bccd3acrow2_col0 {\n",
       "            background-color:  #4a63d3;\n",
       "            color:  #f1f1f1;\n",
       "        }    #T_1ec77226_13af_11ea_a5bb_34363bccd3acrow2_col1 {\n",
       "            background-color:  #3b4cc0;\n",
       "            color:  #f1f1f1;\n",
       "        }    #T_1ec77226_13af_11ea_a5bb_34363bccd3acrow2_col2 {\n",
       "            background-color:  #b40426;\n",
       "            color:  #f1f1f1;\n",
       "        }    #T_1ec77226_13af_11ea_a5bb_34363bccd3acrow2_col3 {\n",
       "            background-color:  #3c4ec2;\n",
       "            color:  #f1f1f1;\n",
       "        }    #T_1ec77226_13af_11ea_a5bb_34363bccd3acrow2_col4 {\n",
       "            background-color:  #6b8df0;\n",
       "            color:  #000000;\n",
       "        }    #T_1ec77226_13af_11ea_a5bb_34363bccd3acrow2_col5 {\n",
       "            background-color:  #3b4cc0;\n",
       "            color:  #f1f1f1;\n",
       "        }    #T_1ec77226_13af_11ea_a5bb_34363bccd3acrow2_col6 {\n",
       "            background-color:  #3b4cc0;\n",
       "            color:  #f1f1f1;\n",
       "        }    #T_1ec77226_13af_11ea_a5bb_34363bccd3acrow2_col7 {\n",
       "            background-color:  #6a8bef;\n",
       "            color:  #000000;\n",
       "        }    #T_1ec77226_13af_11ea_a5bb_34363bccd3acrow2_col8 {\n",
       "            background-color:  #6a8bef;\n",
       "            color:  #000000;\n",
       "        }    #T_1ec77226_13af_11ea_a5bb_34363bccd3acrow2_col9 {\n",
       "            background-color:  #3b4cc0;\n",
       "            color:  #f1f1f1;\n",
       "        }    #T_1ec77226_13af_11ea_a5bb_34363bccd3acrow3_col0 {\n",
       "            background-color:  #3b4cc0;\n",
       "            color:  #f1f1f1;\n",
       "        }    #T_1ec77226_13af_11ea_a5bb_34363bccd3acrow3_col1 {\n",
       "            background-color:  #3d50c3;\n",
       "            color:  #f1f1f1;\n",
       "        }    #T_1ec77226_13af_11ea_a5bb_34363bccd3acrow3_col2 {\n",
       "            background-color:  #4055c8;\n",
       "            color:  #f1f1f1;\n",
       "        }    #T_1ec77226_13af_11ea_a5bb_34363bccd3acrow3_col3 {\n",
       "            background-color:  #b40426;\n",
       "            color:  #f1f1f1;\n",
       "        }    #T_1ec77226_13af_11ea_a5bb_34363bccd3acrow3_col4 {\n",
       "            background-color:  #5b7ae5;\n",
       "            color:  #000000;\n",
       "        }    #T_1ec77226_13af_11ea_a5bb_34363bccd3acrow3_col5 {\n",
       "            background-color:  #3d50c3;\n",
       "            color:  #f1f1f1;\n",
       "        }    #T_1ec77226_13af_11ea_a5bb_34363bccd3acrow3_col6 {\n",
       "            background-color:  #445acc;\n",
       "            color:  #f1f1f1;\n",
       "        }    #T_1ec77226_13af_11ea_a5bb_34363bccd3acrow3_col7 {\n",
       "            background-color:  #3d50c3;\n",
       "            color:  #f1f1f1;\n",
       "        }    #T_1ec77226_13af_11ea_a5bb_34363bccd3acrow3_col8 {\n",
       "            background-color:  #3d50c3;\n",
       "            color:  #f1f1f1;\n",
       "        }    #T_1ec77226_13af_11ea_a5bb_34363bccd3acrow3_col9 {\n",
       "            background-color:  #e5d8d1;\n",
       "            color:  #000000;\n",
       "        }    #T_1ec77226_13af_11ea_a5bb_34363bccd3acrow4_col0 {\n",
       "            background-color:  #4f69d9;\n",
       "            color:  #000000;\n",
       "        }    #T_1ec77226_13af_11ea_a5bb_34363bccd3acrow4_col1 {\n",
       "            background-color:  #3c4ec2;\n",
       "            color:  #f1f1f1;\n",
       "        }    #T_1ec77226_13af_11ea_a5bb_34363bccd3acrow4_col2 {\n",
       "            background-color:  #7093f3;\n",
       "            color:  #000000;\n",
       "        }    #T_1ec77226_13af_11ea_a5bb_34363bccd3acrow4_col3 {\n",
       "            background-color:  #5a78e4;\n",
       "            color:  #000000;\n",
       "        }    #T_1ec77226_13af_11ea_a5bb_34363bccd3acrow4_col4 {\n",
       "            background-color:  #b40426;\n",
       "            color:  #f1f1f1;\n",
       "        }    #T_1ec77226_13af_11ea_a5bb_34363bccd3acrow4_col5 {\n",
       "            background-color:  #3c4ec2;\n",
       "            color:  #f1f1f1;\n",
       "        }    #T_1ec77226_13af_11ea_a5bb_34363bccd3acrow4_col6 {\n",
       "            background-color:  #4961d2;\n",
       "            color:  #f1f1f1;\n",
       "        }    #T_1ec77226_13af_11ea_a5bb_34363bccd3acrow4_col7 {\n",
       "            background-color:  #4b64d5;\n",
       "            color:  #f1f1f1;\n",
       "        }    #T_1ec77226_13af_11ea_a5bb_34363bccd3acrow4_col8 {\n",
       "            background-color:  #4b64d5;\n",
       "            color:  #f1f1f1;\n",
       "        }    #T_1ec77226_13af_11ea_a5bb_34363bccd3acrow4_col9 {\n",
       "            background-color:  #455cce;\n",
       "            color:  #f1f1f1;\n",
       "        }    #T_1ec77226_13af_11ea_a5bb_34363bccd3acrow5_col0 {\n",
       "            background-color:  #3b4cc0;\n",
       "            color:  #f1f1f1;\n",
       "        }    #T_1ec77226_13af_11ea_a5bb_34363bccd3acrow5_col1 {\n",
       "            background-color:  #3b4cc0;\n",
       "            color:  #f1f1f1;\n",
       "        }    #T_1ec77226_13af_11ea_a5bb_34363bccd3acrow5_col2 {\n",
       "            background-color:  #3e51c5;\n",
       "            color:  #f1f1f1;\n",
       "        }    #T_1ec77226_13af_11ea_a5bb_34363bccd3acrow5_col3 {\n",
       "            background-color:  #3b4cc0;\n",
       "            color:  #f1f1f1;\n",
       "        }    #T_1ec77226_13af_11ea_a5bb_34363bccd3acrow5_col4 {\n",
       "            background-color:  #3b4cc0;\n",
       "            color:  #f1f1f1;\n",
       "        }    #T_1ec77226_13af_11ea_a5bb_34363bccd3acrow5_col5 {\n",
       "            background-color:  #b40426;\n",
       "            color:  #f1f1f1;\n",
       "        }    #T_1ec77226_13af_11ea_a5bb_34363bccd3acrow5_col6 {\n",
       "            background-color:  #3d50c3;\n",
       "            color:  #f1f1f1;\n",
       "        }    #T_1ec77226_13af_11ea_a5bb_34363bccd3acrow5_col7 {\n",
       "            background-color:  #3b4cc0;\n",
       "            color:  #f1f1f1;\n",
       "        }    #T_1ec77226_13af_11ea_a5bb_34363bccd3acrow5_col8 {\n",
       "            background-color:  #3b4cc0;\n",
       "            color:  #f1f1f1;\n",
       "        }    #T_1ec77226_13af_11ea_a5bb_34363bccd3acrow5_col9 {\n",
       "            background-color:  #3d50c3;\n",
       "            color:  #f1f1f1;\n",
       "        }    #T_1ec77226_13af_11ea_a5bb_34363bccd3acrow6_col0 {\n",
       "            background-color:  #3b4cc0;\n",
       "            color:  #f1f1f1;\n",
       "        }    #T_1ec77226_13af_11ea_a5bb_34363bccd3acrow6_col1 {\n",
       "            background-color:  #3b4cc0;\n",
       "            color:  #f1f1f1;\n",
       "        }    #T_1ec77226_13af_11ea_a5bb_34363bccd3acrow6_col2 {\n",
       "            background-color:  #3b4cc0;\n",
       "            color:  #f1f1f1;\n",
       "        }    #T_1ec77226_13af_11ea_a5bb_34363bccd3acrow6_col3 {\n",
       "            background-color:  #3e51c5;\n",
       "            color:  #f1f1f1;\n",
       "        }    #T_1ec77226_13af_11ea_a5bb_34363bccd3acrow6_col4 {\n",
       "            background-color:  #445acc;\n",
       "            color:  #f1f1f1;\n",
       "        }    #T_1ec77226_13af_11ea_a5bb_34363bccd3acrow6_col5 {\n",
       "            background-color:  #3b4cc0;\n",
       "            color:  #f1f1f1;\n",
       "        }    #T_1ec77226_13af_11ea_a5bb_34363bccd3acrow6_col6 {\n",
       "            background-color:  #b40426;\n",
       "            color:  #f1f1f1;\n",
       "        }    #T_1ec77226_13af_11ea_a5bb_34363bccd3acrow6_col7 {\n",
       "            background-color:  #3b4cc0;\n",
       "            color:  #f1f1f1;\n",
       "        }    #T_1ec77226_13af_11ea_a5bb_34363bccd3acrow6_col8 {\n",
       "            background-color:  #3b4cc0;\n",
       "            color:  #f1f1f1;\n",
       "        }    #T_1ec77226_13af_11ea_a5bb_34363bccd3acrow6_col9 {\n",
       "            background-color:  #4257c9;\n",
       "            color:  #f1f1f1;\n",
       "        }    #T_1ec77226_13af_11ea_a5bb_34363bccd3acrow7_col0 {\n",
       "            background-color:  #5f7fe8;\n",
       "            color:  #000000;\n",
       "        }    #T_1ec77226_13af_11ea_a5bb_34363bccd3acrow7_col1 {\n",
       "            background-color:  #3c4ec2;\n",
       "            color:  #f1f1f1;\n",
       "        }    #T_1ec77226_13af_11ea_a5bb_34363bccd3acrow7_col2 {\n",
       "            background-color:  #6e90f2;\n",
       "            color:  #000000;\n",
       "        }    #T_1ec77226_13af_11ea_a5bb_34363bccd3acrow7_col3 {\n",
       "            background-color:  #3c4ec2;\n",
       "            color:  #f1f1f1;\n",
       "        }    #T_1ec77226_13af_11ea_a5bb_34363bccd3acrow7_col4 {\n",
       "            background-color:  #4b64d5;\n",
       "            color:  #f1f1f1;\n",
       "        }    #T_1ec77226_13af_11ea_a5bb_34363bccd3acrow7_col5 {\n",
       "            background-color:  #3c4ec2;\n",
       "            color:  #f1f1f1;\n",
       "        }    #T_1ec77226_13af_11ea_a5bb_34363bccd3acrow7_col6 {\n",
       "            background-color:  #3e51c5;\n",
       "            color:  #f1f1f1;\n",
       "        }    #T_1ec77226_13af_11ea_a5bb_34363bccd3acrow7_col7 {\n",
       "            background-color:  #b40426;\n",
       "            color:  #f1f1f1;\n",
       "        }    #T_1ec77226_13af_11ea_a5bb_34363bccd3acrow7_col8 {\n",
       "            background-color:  #b40426;\n",
       "            color:  #f1f1f1;\n",
       "        }    #T_1ec77226_13af_11ea_a5bb_34363bccd3acrow7_col9 {\n",
       "            background-color:  #3d50c3;\n",
       "            color:  #f1f1f1;\n",
       "        }    #T_1ec77226_13af_11ea_a5bb_34363bccd3acrow8_col0 {\n",
       "            background-color:  #5f7fe8;\n",
       "            color:  #000000;\n",
       "        }    #T_1ec77226_13af_11ea_a5bb_34363bccd3acrow8_col1 {\n",
       "            background-color:  #3c4ec2;\n",
       "            color:  #f1f1f1;\n",
       "        }    #T_1ec77226_13af_11ea_a5bb_34363bccd3acrow8_col2 {\n",
       "            background-color:  #6e90f2;\n",
       "            color:  #000000;\n",
       "        }    #T_1ec77226_13af_11ea_a5bb_34363bccd3acrow8_col3 {\n",
       "            background-color:  #3c4ec2;\n",
       "            color:  #f1f1f1;\n",
       "        }    #T_1ec77226_13af_11ea_a5bb_34363bccd3acrow8_col4 {\n",
       "            background-color:  #4b64d5;\n",
       "            color:  #f1f1f1;\n",
       "        }    #T_1ec77226_13af_11ea_a5bb_34363bccd3acrow8_col5 {\n",
       "            background-color:  #3c4ec2;\n",
       "            color:  #f1f1f1;\n",
       "        }    #T_1ec77226_13af_11ea_a5bb_34363bccd3acrow8_col6 {\n",
       "            background-color:  #3e51c5;\n",
       "            color:  #f1f1f1;\n",
       "        }    #T_1ec77226_13af_11ea_a5bb_34363bccd3acrow8_col7 {\n",
       "            background-color:  #b40426;\n",
       "            color:  #f1f1f1;\n",
       "        }    #T_1ec77226_13af_11ea_a5bb_34363bccd3acrow8_col8 {\n",
       "            background-color:  #b40426;\n",
       "            color:  #f1f1f1;\n",
       "        }    #T_1ec77226_13af_11ea_a5bb_34363bccd3acrow8_col9 {\n",
       "            background-color:  #3d50c3;\n",
       "            color:  #f1f1f1;\n",
       "        }    #T_1ec77226_13af_11ea_a5bb_34363bccd3acrow9_col0 {\n",
       "            background-color:  #3b4cc0;\n",
       "            color:  #f1f1f1;\n",
       "        }    #T_1ec77226_13af_11ea_a5bb_34363bccd3acrow9_col1 {\n",
       "            background-color:  #3c4ec2;\n",
       "            color:  #f1f1f1;\n",
       "        }    #T_1ec77226_13af_11ea_a5bb_34363bccd3acrow9_col2 {\n",
       "            background-color:  #4055c8;\n",
       "            color:  #f1f1f1;\n",
       "        }    #T_1ec77226_13af_11ea_a5bb_34363bccd3acrow9_col3 {\n",
       "            background-color:  #e6d7cf;\n",
       "            color:  #000000;\n",
       "        }    #T_1ec77226_13af_11ea_a5bb_34363bccd3acrow9_col4 {\n",
       "            background-color:  #485fd1;\n",
       "            color:  #f1f1f1;\n",
       "        }    #T_1ec77226_13af_11ea_a5bb_34363bccd3acrow9_col5 {\n",
       "            background-color:  #4055c8;\n",
       "            color:  #f1f1f1;\n",
       "        }    #T_1ec77226_13af_11ea_a5bb_34363bccd3acrow9_col6 {\n",
       "            background-color:  #485fd1;\n",
       "            color:  #f1f1f1;\n",
       "        }    #T_1ec77226_13af_11ea_a5bb_34363bccd3acrow9_col7 {\n",
       "            background-color:  #3f53c6;\n",
       "            color:  #f1f1f1;\n",
       "        }    #T_1ec77226_13af_11ea_a5bb_34363bccd3acrow9_col8 {\n",
       "            background-color:  #3f53c6;\n",
       "            color:  #f1f1f1;\n",
       "        }    #T_1ec77226_13af_11ea_a5bb_34363bccd3acrow9_col9 {\n",
       "            background-color:  #b40426;\n",
       "            color:  #f1f1f1;\n",
       "        }</style><table id=\"T_1ec77226_13af_11ea_a5bb_34363bccd3ac\" ><thead>    <tr>        <th class=\"blank level0\" ></th>        <th class=\"col_heading level0 col0\" >failure</th>        <th class=\"col_heading level0 col1\" >metric1</th>        <th class=\"col_heading level0 col2\" >metric2</th>        <th class=\"col_heading level0 col3\" >metric3</th>        <th class=\"col_heading level0 col4\" >metric4</th>        <th class=\"col_heading level0 col5\" >metric5</th>        <th class=\"col_heading level0 col6\" >metric6</th>        <th class=\"col_heading level0 col7\" >metric7</th>        <th class=\"col_heading level0 col8\" >metric8</th>        <th class=\"col_heading level0 col9\" >metric9</th>    </tr></thead><tbody>\n",
       "                <tr>\n",
       "                        <th id=\"T_1ec77226_13af_11ea_a5bb_34363bccd3aclevel0_row0\" class=\"row_heading level0 row0\" >failure</th>\n",
       "                        <td id=\"T_1ec77226_13af_11ea_a5bb_34363bccd3acrow0_col0\" class=\"data row0 col0\" >1</td>\n",
       "                        <td id=\"T_1ec77226_13af_11ea_a5bb_34363bccd3acrow0_col1\" class=\"data row0 col1\" >0.00198348</td>\n",
       "                        <td id=\"T_1ec77226_13af_11ea_a5bb_34363bccd3acrow0_col2\" class=\"data row0 col2\" >0.0529016</td>\n",
       "                        <td id=\"T_1ec77226_13af_11ea_a5bb_34363bccd3acrow0_col3\" class=\"data row0 col3\" >-0.00094843</td>\n",
       "                        <td id=\"T_1ec77226_13af_11ea_a5bb_34363bccd3acrow0_col4\" class=\"data row0 col4\" >0.0673985</td>\n",
       "                        <td id=\"T_1ec77226_13af_11ea_a5bb_34363bccd3acrow0_col5\" class=\"data row0 col5\" >0.00226973</td>\n",
       "                        <td id=\"T_1ec77226_13af_11ea_a5bb_34363bccd3acrow0_col6\" class=\"data row0 col6\" >-0.000550324</td>\n",
       "                        <td id=\"T_1ec77226_13af_11ea_a5bb_34363bccd3acrow0_col7\" class=\"data row0 col7\" >0.119055</td>\n",
       "                        <td id=\"T_1ec77226_13af_11ea_a5bb_34363bccd3acrow0_col8\" class=\"data row0 col8\" >0.119055</td>\n",
       "                        <td id=\"T_1ec77226_13af_11ea_a5bb_34363bccd3acrow0_col9\" class=\"data row0 col9\" >0.00162157</td>\n",
       "            </tr>\n",
       "            <tr>\n",
       "                        <th id=\"T_1ec77226_13af_11ea_a5bb_34363bccd3aclevel0_row1\" class=\"row_heading level0 row1\" >metric1</th>\n",
       "                        <td id=\"T_1ec77226_13af_11ea_a5bb_34363bccd3acrow1_col0\" class=\"data row1 col0\" >0.00198348</td>\n",
       "                        <td id=\"T_1ec77226_13af_11ea_a5bb_34363bccd3acrow1_col1\" class=\"data row1 col1\" >1</td>\n",
       "                        <td id=\"T_1ec77226_13af_11ea_a5bb_34363bccd3acrow1_col2\" class=\"data row1 col2\" >-0.00424992</td>\n",
       "                        <td id=\"T_1ec77226_13af_11ea_a5bb_34363bccd3acrow1_col3\" class=\"data row1 col3\" >0.00370149</td>\n",
       "                        <td id=\"T_1ec77226_13af_11ea_a5bb_34363bccd3acrow1_col4\" class=\"data row1 col4\" >0.00183579</td>\n",
       "                        <td id=\"T_1ec77226_13af_11ea_a5bb_34363bccd3acrow1_col5\" class=\"data row1 col5\" >-0.00337588</td>\n",
       "                        <td id=\"T_1ec77226_13af_11ea_a5bb_34363bccd3acrow1_col6\" class=\"data row1 col6\" >-0.00152197</td>\n",
       "                        <td id=\"T_1ec77226_13af_11ea_a5bb_34363bccd3acrow1_col7\" class=\"data row1 col7\" >0.000150676</td>\n",
       "                        <td id=\"T_1ec77226_13af_11ea_a5bb_34363bccd3acrow1_col8\" class=\"data row1 col8\" >0.000150676</td>\n",
       "                        <td id=\"T_1ec77226_13af_11ea_a5bb_34363bccd3acrow1_col9\" class=\"data row1 col9\" >0.00112075</td>\n",
       "            </tr>\n",
       "            <tr>\n",
       "                        <th id=\"T_1ec77226_13af_11ea_a5bb_34363bccd3aclevel0_row2\" class=\"row_heading level0 row2\" >metric2</th>\n",
       "                        <td id=\"T_1ec77226_13af_11ea_a5bb_34363bccd3acrow2_col0\" class=\"data row2 col0\" >0.0529016</td>\n",
       "                        <td id=\"T_1ec77226_13af_11ea_a5bb_34363bccd3acrow2_col1\" class=\"data row2 col1\" >-0.00424992</td>\n",
       "                        <td id=\"T_1ec77226_13af_11ea_a5bb_34363bccd3acrow2_col2\" class=\"data row2 col2\" >1</td>\n",
       "                        <td id=\"T_1ec77226_13af_11ea_a5bb_34363bccd3acrow2_col3\" class=\"data row2 col3\" >-0.00261686</td>\n",
       "                        <td id=\"T_1ec77226_13af_11ea_a5bb_34363bccd3acrow2_col4\" class=\"data row2 col4\" >0.146593</td>\n",
       "                        <td id=\"T_1ec77226_13af_11ea_a5bb_34363bccd3acrow2_col5\" class=\"data row2 col5\" >-0.0139986</td>\n",
       "                        <td id=\"T_1ec77226_13af_11ea_a5bb_34363bccd3acrow2_col6\" class=\"data row2 col6\" >-0.0263496</td>\n",
       "                        <td id=\"T_1ec77226_13af_11ea_a5bb_34363bccd3acrow2_col7\" class=\"data row2 col7\" >0.141367</td>\n",
       "                        <td id=\"T_1ec77226_13af_11ea_a5bb_34363bccd3acrow2_col8\" class=\"data row2 col8\" >0.141367</td>\n",
       "                        <td id=\"T_1ec77226_13af_11ea_a5bb_34363bccd3acrow2_col9\" class=\"data row2 col9\" >-0.00273572</td>\n",
       "            </tr>\n",
       "            <tr>\n",
       "                        <th id=\"T_1ec77226_13af_11ea_a5bb_34363bccd3aclevel0_row3\" class=\"row_heading level0 row3\" >metric3</th>\n",
       "                        <td id=\"T_1ec77226_13af_11ea_a5bb_34363bccd3acrow3_col0\" class=\"data row3 col0\" >-0.00094843</td>\n",
       "                        <td id=\"T_1ec77226_13af_11ea_a5bb_34363bccd3acrow3_col1\" class=\"data row3 col1\" >0.00370149</td>\n",
       "                        <td id=\"T_1ec77226_13af_11ea_a5bb_34363bccd3acrow3_col2\" class=\"data row3 col2\" >-0.00261686</td>\n",
       "                        <td id=\"T_1ec77226_13af_11ea_a5bb_34363bccd3acrow3_col3\" class=\"data row3 col3\" >1</td>\n",
       "                        <td id=\"T_1ec77226_13af_11ea_a5bb_34363bccd3acrow3_col4\" class=\"data row3 col4\" >0.0974522</td>\n",
       "                        <td id=\"T_1ec77226_13af_11ea_a5bb_34363bccd3acrow3_col5\" class=\"data row3 col5\" >-0.0066964</td>\n",
       "                        <td id=\"T_1ec77226_13af_11ea_a5bb_34363bccd3acrow3_col6\" class=\"data row3 col6\" >0.00902703</td>\n",
       "                        <td id=\"T_1ec77226_13af_11ea_a5bb_34363bccd3acrow3_col7\" class=\"data row3 col7\" >-0.00188394</td>\n",
       "                        <td id=\"T_1ec77226_13af_11ea_a5bb_34363bccd3acrow3_col8\" class=\"data row3 col8\" >-0.00188394</td>\n",
       "                        <td id=\"T_1ec77226_13af_11ea_a5bb_34363bccd3acrow3_col9\" class=\"data row3 col9\" >0.532366</td>\n",
       "            </tr>\n",
       "            <tr>\n",
       "                        <th id=\"T_1ec77226_13af_11ea_a5bb_34363bccd3aclevel0_row4\" class=\"row_heading level0 row4\" >metric4</th>\n",
       "                        <td id=\"T_1ec77226_13af_11ea_a5bb_34363bccd3acrow4_col0\" class=\"data row4 col0\" >0.0673985</td>\n",
       "                        <td id=\"T_1ec77226_13af_11ea_a5bb_34363bccd3acrow4_col1\" class=\"data row4 col1\" >0.00183579</td>\n",
       "                        <td id=\"T_1ec77226_13af_11ea_a5bb_34363bccd3acrow4_col2\" class=\"data row4 col2\" >0.146593</td>\n",
       "                        <td id=\"T_1ec77226_13af_11ea_a5bb_34363bccd3acrow4_col3\" class=\"data row4 col3\" >0.0974522</td>\n",
       "                        <td id=\"T_1ec77226_13af_11ea_a5bb_34363bccd3acrow4_col4\" class=\"data row4 col4\" >1</td>\n",
       "                        <td id=\"T_1ec77226_13af_11ea_a5bb_34363bccd3acrow4_col5\" class=\"data row4 col5\" >-0.00977282</td>\n",
       "                        <td id=\"T_1ec77226_13af_11ea_a5bb_34363bccd3acrow4_col6\" class=\"data row4 col6\" >0.0248699</td>\n",
       "                        <td id=\"T_1ec77226_13af_11ea_a5bb_34363bccd3acrow4_col7\" class=\"data row4 col7\" >0.0456309</td>\n",
       "                        <td id=\"T_1ec77226_13af_11ea_a5bb_34363bccd3acrow4_col8\" class=\"data row4 col8\" >0.0456309</td>\n",
       "                        <td id=\"T_1ec77226_13af_11ea_a5bb_34363bccd3acrow4_col9\" class=\"data row4 col9\" >0.036069</td>\n",
       "            </tr>\n",
       "            <tr>\n",
       "                        <th id=\"T_1ec77226_13af_11ea_a5bb_34363bccd3aclevel0_row5\" class=\"row_heading level0 row5\" >metric5</th>\n",
       "                        <td id=\"T_1ec77226_13af_11ea_a5bb_34363bccd3acrow5_col0\" class=\"data row5 col0\" >0.00226973</td>\n",
       "                        <td id=\"T_1ec77226_13af_11ea_a5bb_34363bccd3acrow5_col1\" class=\"data row5 col1\" >-0.00337588</td>\n",
       "                        <td id=\"T_1ec77226_13af_11ea_a5bb_34363bccd3acrow5_col2\" class=\"data row5 col2\" >-0.0139986</td>\n",
       "                        <td id=\"T_1ec77226_13af_11ea_a5bb_34363bccd3acrow5_col3\" class=\"data row5 col3\" >-0.0066964</td>\n",
       "                        <td id=\"T_1ec77226_13af_11ea_a5bb_34363bccd3acrow5_col4\" class=\"data row5 col4\" >-0.00977282</td>\n",
       "                        <td id=\"T_1ec77226_13af_11ea_a5bb_34363bccd3acrow5_col5\" class=\"data row5 col5\" >1</td>\n",
       "                        <td id=\"T_1ec77226_13af_11ea_a5bb_34363bccd3acrow5_col6\" class=\"data row5 col6\" >-0.0170494</td>\n",
       "                        <td id=\"T_1ec77226_13af_11ea_a5bb_34363bccd3acrow5_col7\" class=\"data row5 col7\" >-0.00938373</td>\n",
       "                        <td id=\"T_1ec77226_13af_11ea_a5bb_34363bccd3acrow5_col8\" class=\"data row5 col8\" >-0.00938373</td>\n",
       "                        <td id=\"T_1ec77226_13af_11ea_a5bb_34363bccd3acrow5_col9\" class=\"data row5 col9\" >0.00594942</td>\n",
       "            </tr>\n",
       "            <tr>\n",
       "                        <th id=\"T_1ec77226_13af_11ea_a5bb_34363bccd3aclevel0_row6\" class=\"row_heading level0 row6\" >metric6</th>\n",
       "                        <td id=\"T_1ec77226_13af_11ea_a5bb_34363bccd3acrow6_col0\" class=\"data row6 col0\" >-0.000550324</td>\n",
       "                        <td id=\"T_1ec77226_13af_11ea_a5bb_34363bccd3acrow6_col1\" class=\"data row6 col1\" >-0.00152197</td>\n",
       "                        <td id=\"T_1ec77226_13af_11ea_a5bb_34363bccd3acrow6_col2\" class=\"data row6 col2\" >-0.0263496</td>\n",
       "                        <td id=\"T_1ec77226_13af_11ea_a5bb_34363bccd3acrow6_col3\" class=\"data row6 col3\" >0.00902703</td>\n",
       "                        <td id=\"T_1ec77226_13af_11ea_a5bb_34363bccd3acrow6_col4\" class=\"data row6 col4\" >0.0248699</td>\n",
       "                        <td id=\"T_1ec77226_13af_11ea_a5bb_34363bccd3acrow6_col5\" class=\"data row6 col5\" >-0.0170494</td>\n",
       "                        <td id=\"T_1ec77226_13af_11ea_a5bb_34363bccd3acrow6_col6\" class=\"data row6 col6\" >1</td>\n",
       "                        <td id=\"T_1ec77226_13af_11ea_a5bb_34363bccd3acrow6_col7\" class=\"data row6 col7\" >-0.0122068</td>\n",
       "                        <td id=\"T_1ec77226_13af_11ea_a5bb_34363bccd3acrow6_col8\" class=\"data row6 col8\" >-0.0122068</td>\n",
       "                        <td id=\"T_1ec77226_13af_11ea_a5bb_34363bccd3acrow6_col9\" class=\"data row6 col9\" >0.0211525</td>\n",
       "            </tr>\n",
       "            <tr>\n",
       "                        <th id=\"T_1ec77226_13af_11ea_a5bb_34363bccd3aclevel0_row7\" class=\"row_heading level0 row7\" >metric7</th>\n",
       "                        <td id=\"T_1ec77226_13af_11ea_a5bb_34363bccd3acrow7_col0\" class=\"data row7 col0\" >0.119055</td>\n",
       "                        <td id=\"T_1ec77226_13af_11ea_a5bb_34363bccd3acrow7_col1\" class=\"data row7 col1\" >0.000150676</td>\n",
       "                        <td id=\"T_1ec77226_13af_11ea_a5bb_34363bccd3acrow7_col2\" class=\"data row7 col2\" >0.141367</td>\n",
       "                        <td id=\"T_1ec77226_13af_11ea_a5bb_34363bccd3acrow7_col3\" class=\"data row7 col3\" >-0.00188394</td>\n",
       "                        <td id=\"T_1ec77226_13af_11ea_a5bb_34363bccd3acrow7_col4\" class=\"data row7 col4\" >0.0456309</td>\n",
       "                        <td id=\"T_1ec77226_13af_11ea_a5bb_34363bccd3acrow7_col5\" class=\"data row7 col5\" >-0.00938373</td>\n",
       "                        <td id=\"T_1ec77226_13af_11ea_a5bb_34363bccd3acrow7_col6\" class=\"data row7 col6\" >-0.0122068</td>\n",
       "                        <td id=\"T_1ec77226_13af_11ea_a5bb_34363bccd3acrow7_col7\" class=\"data row7 col7\" >1</td>\n",
       "                        <td id=\"T_1ec77226_13af_11ea_a5bb_34363bccd3acrow7_col8\" class=\"data row7 col8\" >1</td>\n",
       "                        <td id=\"T_1ec77226_13af_11ea_a5bb_34363bccd3acrow7_col9\" class=\"data row7 col9\" >0.00686067</td>\n",
       "            </tr>\n",
       "            <tr>\n",
       "                        <th id=\"T_1ec77226_13af_11ea_a5bb_34363bccd3aclevel0_row8\" class=\"row_heading level0 row8\" >metric8</th>\n",
       "                        <td id=\"T_1ec77226_13af_11ea_a5bb_34363bccd3acrow8_col0\" class=\"data row8 col0\" >0.119055</td>\n",
       "                        <td id=\"T_1ec77226_13af_11ea_a5bb_34363bccd3acrow8_col1\" class=\"data row8 col1\" >0.000150676</td>\n",
       "                        <td id=\"T_1ec77226_13af_11ea_a5bb_34363bccd3acrow8_col2\" class=\"data row8 col2\" >0.141367</td>\n",
       "                        <td id=\"T_1ec77226_13af_11ea_a5bb_34363bccd3acrow8_col3\" class=\"data row8 col3\" >-0.00188394</td>\n",
       "                        <td id=\"T_1ec77226_13af_11ea_a5bb_34363bccd3acrow8_col4\" class=\"data row8 col4\" >0.0456309</td>\n",
       "                        <td id=\"T_1ec77226_13af_11ea_a5bb_34363bccd3acrow8_col5\" class=\"data row8 col5\" >-0.00938373</td>\n",
       "                        <td id=\"T_1ec77226_13af_11ea_a5bb_34363bccd3acrow8_col6\" class=\"data row8 col6\" >-0.0122068</td>\n",
       "                        <td id=\"T_1ec77226_13af_11ea_a5bb_34363bccd3acrow8_col7\" class=\"data row8 col7\" >1</td>\n",
       "                        <td id=\"T_1ec77226_13af_11ea_a5bb_34363bccd3acrow8_col8\" class=\"data row8 col8\" >1</td>\n",
       "                        <td id=\"T_1ec77226_13af_11ea_a5bb_34363bccd3acrow8_col9\" class=\"data row8 col9\" >0.00686067</td>\n",
       "            </tr>\n",
       "            <tr>\n",
       "                        <th id=\"T_1ec77226_13af_11ea_a5bb_34363bccd3aclevel0_row9\" class=\"row_heading level0 row9\" >metric9</th>\n",
       "                        <td id=\"T_1ec77226_13af_11ea_a5bb_34363bccd3acrow9_col0\" class=\"data row9 col0\" >0.00162157</td>\n",
       "                        <td id=\"T_1ec77226_13af_11ea_a5bb_34363bccd3acrow9_col1\" class=\"data row9 col1\" >0.00112075</td>\n",
       "                        <td id=\"T_1ec77226_13af_11ea_a5bb_34363bccd3acrow9_col2\" class=\"data row9 col2\" >-0.00273572</td>\n",
       "                        <td id=\"T_1ec77226_13af_11ea_a5bb_34363bccd3acrow9_col3\" class=\"data row9 col3\" >0.532366</td>\n",
       "                        <td id=\"T_1ec77226_13af_11ea_a5bb_34363bccd3acrow9_col4\" class=\"data row9 col4\" >0.036069</td>\n",
       "                        <td id=\"T_1ec77226_13af_11ea_a5bb_34363bccd3acrow9_col5\" class=\"data row9 col5\" >0.00594942</td>\n",
       "                        <td id=\"T_1ec77226_13af_11ea_a5bb_34363bccd3acrow9_col6\" class=\"data row9 col6\" >0.0211525</td>\n",
       "                        <td id=\"T_1ec77226_13af_11ea_a5bb_34363bccd3acrow9_col7\" class=\"data row9 col7\" >0.00686067</td>\n",
       "                        <td id=\"T_1ec77226_13af_11ea_a5bb_34363bccd3acrow9_col8\" class=\"data row9 col8\" >0.00686067</td>\n",
       "                        <td id=\"T_1ec77226_13af_11ea_a5bb_34363bccd3acrow9_col9\" class=\"data row9 col9\" >1</td>\n",
       "            </tr>\n",
       "    </tbody></table>"
      ],
      "text/plain": [
       "<pandas.io.formats.style.Styler at 0x11805ab10>"
      ]
     },
     "execution_count": 7,
     "metadata": {},
     "output_type": "execute_result"
    }
   ],
   "source": [
    "corr = df.corr()\n",
    "corr.style.background_gradient(cmap='coolwarm')"
   ]
  },
  {
   "cell_type": "markdown",
   "metadata": {},
   "source": [
    "It appears the `metric7` and `metric8` are perfectly correlated with eachother. I will exclude `metric8` from further analysis. None of the variables are particularly well correlated with `failure`. It is interesting that `metric3` and `metric9` have a relatively strong correlation."
   ]
  },
  {
   "cell_type": "code",
   "execution_count": 8,
   "metadata": {},
   "outputs": [],
   "source": [
    "df.drop(columns=['metric8'], inplace=True)"
   ]
  },
  {
   "cell_type": "markdown",
   "metadata": {},
   "source": [
    "## Model Building\n",
    "\n",
    "Lets try training up some classificaiton models. Because there is such an imbalance in the target variable `failure` some care has to be taken in data split for model training, testing and validation. Also, some thought needs to be put into the correct evaluation metric. Accuracy is the wrong metric because a classifier that predicts no failure every time will have an accuracy above 99%."
   ]
  },
  {
   "cell_type": "code",
   "execution_count": 9,
   "metadata": {},
   "outputs": [],
   "source": [
    "from imblearn.over_sampling import SMOTE, ADASYN\n",
    "from sklearn.model_selection import train_test_split \n",
    "from sklearn.metrics import confusion_matrix, classification_report\n",
    "from sklearn.preprocessing import StandardScaler\n",
    "\n",
    "# Different classifiers\n",
    "from sklearn.linear_model import LogisticRegression, SGDClassifier\n",
    "from sklearn.neural_network import MLPClassifier\n",
    "from sklearn.neighbors import KNeighborsClassifier\n",
    "from sklearn.svm import SVC\n",
    "from sklearn.gaussian_process import GaussianProcessClassifier\n",
    "from sklearn.gaussian_process.kernels import RBF\n",
    "from sklearn.tree import DecisionTreeClassifier\n",
    "from sklearn.ensemble import RandomForestClassifier, AdaBoostClassifier\n",
    "from sklearn.naive_bayes import GaussianNB\n",
    "from sklearn.discriminant_analysis import QuadraticDiscriminantAnalysis"
   ]
  },
  {
   "cell_type": "markdown",
   "metadata": {},
   "source": [
    "The idea here is to throw a bunch of different classifiers at the problem and see if one works well."
   ]
  },
  {
   "cell_type": "code",
   "execution_count": 10,
   "metadata": {},
   "outputs": [],
   "source": [
    "names = [\"Nearest Neighbors\", \"Decision Tree\", \"Random Forest\", \"Neural Net\", \"AdaBoost\",\n",
    "         \"Naive Bayes\", \"QDA\", \"Logistic Regression\", \"Stochastic Gradient Descent\"]\n",
    "\n",
    "classifiers = [\n",
    "    KNeighborsClassifier(3),\n",
    "    DecisionTreeClassifier(max_depth=5),\n",
    "    RandomForestClassifier(max_depth=5, n_estimators=10, max_features=1),\n",
    "    MLPClassifier(alpha=1, max_iter=1000),\n",
    "    AdaBoostClassifier(),\n",
    "    GaussianNB(),\n",
    "    QuadraticDiscriminantAnalysis(),\n",
    "    LogisticRegression(),\n",
    "    SGDClassifier()]"
   ]
  },
  {
   "cell_type": "markdown",
   "metadata": {},
   "source": [
    "Split our data into predictor variables `X` and response variable `y`"
   ]
  },
  {
   "cell_type": "code",
   "execution_count": 11,
   "metadata": {},
   "outputs": [],
   "source": [
    "X = df.filter(regex='metric', axis='columns')\n",
    "y = df.failure"
   ]
  },
  {
   "cell_type": "markdown",
   "metadata": {},
   "source": [
    "Here we emply the SMOTE algorithm to oversample the minority class. Oversampling of the minority class is chosen because there are are so few instances of failures. We then also scale the resampled data and then do a test train split."
   ]
  },
  {
   "cell_type": "code",
   "execution_count": 12,
   "metadata": {},
   "outputs": [],
   "source": [
    "X_resampled, y_resampled = SMOTE().fit_resample(X, y)\n",
    "X_resampled = StandardScaler().fit_transform(X_resampled)\n",
    "X_train, X_test, y_train, y_test = train_test_split(X_resampled, y_resampled, test_size = 0.3, random_state = 0)"
   ]
  },
  {
   "cell_type": "markdown",
   "metadata": {},
   "source": [
    "Now we loop over all over all of our classifiers and check the classification report."
   ]
  },
  {
   "cell_type": "code",
   "execution_count": 13,
   "metadata": {
    "scrolled": true
   },
   "outputs": [
    {
     "name": "stdout",
     "output_type": "stream",
     "text": [
      "Nearest Neighbors\n",
      "training...\n",
      "predicting...\n",
      "scoring...\n",
      "              precision    recall  f1-score   support\n",
      "\n",
      "           0       1.00      0.99      0.99     37355\n",
      "           1       0.99      1.00      0.99     37278\n",
      "\n",
      "    accuracy                           0.99     74633\n",
      "   macro avg       0.99      0.99      0.99     74633\n",
      "weighted avg       0.99      0.99      0.99     74633\n",
      "\n",
      "Decision Tree\n",
      "training...\n",
      "predicting...\n",
      "scoring...\n",
      "              precision    recall  f1-score   support\n",
      "\n",
      "           0       0.94      0.94      0.94     37355\n",
      "           1       0.94      0.94      0.94     37278\n",
      "\n",
      "    accuracy                           0.94     74633\n",
      "   macro avg       0.94      0.94      0.94     74633\n",
      "weighted avg       0.94      0.94      0.94     74633\n",
      "\n",
      "Random Forest\n",
      "training...\n",
      "predicting...\n",
      "scoring...\n",
      "              precision    recall  f1-score   support\n",
      "\n",
      "           0       0.90      0.94      0.92     37355\n",
      "           1       0.94      0.89      0.91     37278\n",
      "\n",
      "    accuracy                           0.92     74633\n",
      "   macro avg       0.92      0.92      0.92     74633\n",
      "weighted avg       0.92      0.92      0.92     74633\n",
      "\n",
      "Neural Net\n",
      "training...\n",
      "predicting...\n",
      "scoring...\n",
      "              precision    recall  f1-score   support\n",
      "\n",
      "           0       0.80      0.95      0.87     37355\n",
      "           1       0.94      0.76      0.84     37278\n",
      "\n",
      "    accuracy                           0.86     74633\n",
      "   macro avg       0.87      0.86      0.85     74633\n",
      "weighted avg       0.87      0.86      0.85     74633\n",
      "\n",
      "AdaBoost\n",
      "training...\n",
      "predicting...\n",
      "scoring...\n",
      "              precision    recall  f1-score   support\n",
      "\n",
      "           0       0.92      0.95      0.94     37355\n",
      "           1       0.95      0.92      0.93     37278\n",
      "\n",
      "    accuracy                           0.94     74633\n",
      "   macro avg       0.94      0.94      0.94     74633\n",
      "weighted avg       0.94      0.94      0.94     74633\n",
      "\n",
      "Naive Bayes\n",
      "training...\n",
      "predicting...\n",
      "scoring...\n",
      "              precision    recall  f1-score   support\n",
      "\n",
      "           0       0.63      0.99      0.77     37355\n",
      "           1       0.97      0.42      0.59     37278\n",
      "\n",
      "    accuracy                           0.71     74633\n",
      "   macro avg       0.80      0.71      0.68     74633\n",
      "weighted avg       0.80      0.71      0.68     74633\n",
      "\n",
      "QDA\n",
      "training...\n",
      "predicting...\n",
      "scoring...\n",
      "              precision    recall  f1-score   support\n",
      "\n",
      "           0       0.63      0.99      0.77     37355\n",
      "           1       0.97      0.42      0.59     37278\n",
      "\n",
      "    accuracy                           0.71     74633\n",
      "   macro avg       0.80      0.71      0.68     74633\n",
      "weighted avg       0.80      0.71      0.68     74633\n",
      "\n",
      "Logistic Regression\n",
      "training...\n"
     ]
    },
    {
     "name": "stderr",
     "output_type": "stream",
     "text": [
      "/Users/dueghis/opt/anaconda3/lib/python3.7/site-packages/sklearn/linear_model/logistic.py:432: FutureWarning: Default solver will be changed to 'lbfgs' in 0.22. Specify a solver to silence this warning.\n",
      "  FutureWarning)\n"
     ]
    },
    {
     "name": "stdout",
     "output_type": "stream",
     "text": [
      "predicting...\n",
      "scoring...\n",
      "              precision    recall  f1-score   support\n",
      "\n",
      "           0       0.75      0.97      0.85     37355\n",
      "           1       0.96      0.68      0.80     37278\n",
      "\n",
      "    accuracy                           0.83     74633\n",
      "   macro avg       0.86      0.83      0.82     74633\n",
      "weighted avg       0.86      0.83      0.82     74633\n",
      "\n",
      "Stochastic Gradient Descent\n",
      "training...\n",
      "predicting...\n",
      "scoring...\n",
      "              precision    recall  f1-score   support\n",
      "\n",
      "           0       0.75      0.97      0.85     37355\n",
      "           1       0.96      0.68      0.79     37278\n",
      "\n",
      "    accuracy                           0.82     74633\n",
      "   macro avg       0.85      0.82      0.82     74633\n",
      "weighted avg       0.85      0.82      0.82     74633\n",
      "\n"
     ]
    }
   ],
   "source": [
    "# iterate over classifiers\n",
    "for name, clf in zip(names, classifiers):\n",
    "    print(name)\n",
    "    print('training...')\n",
    "    clf.fit(X_train, y_train)\n",
    "    print('predicting...')\n",
    "    predictions = clf.predict(X_test)\n",
    "    print('scoring...')\n",
    "    print(classification_report(y_test, predictions)) "
   ]
  },
  {
   "cell_type": "markdown",
   "metadata": {},
   "source": [
    "## Can we do better?\n",
    "The goal of the company is \"They would like to create a predictive maintenance solution to proactively identify when maintenance should be performed\". The predictive models that were developed above simply say if there has been a failure or not. In reality this likely isn't very useful in a proactive sense, but it was a nice warmup to the problem and to get a general sense of the data set.\n",
    "\n",
    "Ideally, a solution to this will not just tell that there is a failure, but also _how long_ until the failure will happen so there is time to schedule the neede maintenence. To do this we will engineer another column called `days_to_failure` and build a model to predict this value."
   ]
  },
  {
   "cell_type": "markdown",
   "metadata": {},
   "source": [
    "## Days to failure\n",
    "\n",
    "Now we are going to try and predict the days to failure. This can be viewed as a regression problem instead of a classification problem. Since we are going to predict `days_to_failure` we need to filter our data to devices that have actually had a failure. "
   ]
  },
  {
   "cell_type": "code",
   "execution_count": 14,
   "metadata": {},
   "outputs": [],
   "source": [
    "devices = df[df.failure == 1].device.unique()\n",
    "df_failed_devices = df[df.device.isin(devices)]"
   ]
  },
  {
   "cell_type": "markdown",
   "metadata": {},
   "source": [
    "Lets check and see how much data we have filtered out."
   ]
  },
  {
   "cell_type": "code",
   "execution_count": 15,
   "metadata": {},
   "outputs": [
    {
     "name": "stdout",
     "output_type": "stream",
     "text": [
      "Original data records: 124494\n",
      "Failed data records: 10713\n"
     ]
    }
   ],
   "source": [
    "print('Original data records: {}'.format(len(df)))\n",
    "print('Failed data records: {}'.format(len(df_failed_devices)))"
   ]
  },
  {
   "cell_type": "markdown",
   "metadata": {},
   "source": [
    "Now we add in the feature we are trying to predict with the convencience function"
   ]
  },
  {
   "cell_type": "code",
   "execution_count": 16,
   "metadata": {},
   "outputs": [],
   "source": [
    "def days_to_failure(df_device):\n",
    "    '''Computes the number of days till a failure for a given device with an observed failure.\n",
    "    \n",
    "    Input:\n",
    "        df_device: A dataframe with an observed failure\n",
    "        \n",
    "    Return:\n",
    "        to_failure: An array with the number of days to failure\n",
    "    '''\n",
    "    fail_date = df_device[df_device.failure == 1].index\n",
    "    to_failure = []\n",
    "    for date in df_device.index:\n",
    "        observation = (fail_date - date).days\n",
    "        to_failure.append(observation)\n",
    "    return to_failure"
   ]
  },
  {
   "cell_type": "code",
   "execution_count": 17,
   "metadata": {},
   "outputs": [
    {
     "name": "stderr",
     "output_type": "stream",
     "text": [
      "/Users/dueghis/opt/anaconda3/lib/python3.7/site-packages/ipykernel_launcher.py:2: SettingWithCopyWarning: \n",
      "A value is trying to be set on a copy of a slice from a DataFrame.\n",
      "Try using .loc[row_indexer,col_indexer] = value instead\n",
      "\n",
      "See the caveats in the documentation: http://pandas.pydata.org/pandas-docs/stable/user_guide/indexing.html#returning-a-view-versus-a-copy\n",
      "  \n",
      "/Users/dueghis/opt/anaconda3/lib/python3.7/site-packages/pandas/core/indexing.py:494: SettingWithCopyWarning: \n",
      "A value is trying to be set on a copy of a slice from a DataFrame.\n",
      "Try using .loc[row_indexer,col_indexer] = value instead\n",
      "\n",
      "See the caveats in the documentation: http://pandas.pydata.org/pandas-docs/stable/user_guide/indexing.html#returning-a-view-versus-a-copy\n",
      "  self.obj[item] = s\n"
     ]
    }
   ],
   "source": [
    "initial_days_to_failure = np.zeros(len(df_failed_devices))\n",
    "df_failed_devices['days_to_failure'] = initial_days_to_failure\n",
    "for device in df_failed_devices.device.unique():\n",
    "    df_device = df_failed_devices[df_failed_devices.device == device]\n",
    "    device_days_to_failure = days_to_failure(df_device)\n",
    "    df_failed_devices.loc[df_failed_devices.device == device, ['days_to_failure']] = device_days_to_failure"
   ]
  },
  {
   "cell_type": "markdown",
   "metadata": {},
   "source": [
    "Lets take a look at how this feature turned out"
   ]
  },
  {
   "cell_type": "code",
   "execution_count": 18,
   "metadata": {},
   "outputs": [
    {
     "data": {
      "text/plain": [
       "Text(0.5, 0, 'Days to failure')"
      ]
     },
     "execution_count": 18,
     "metadata": {},
     "output_type": "execute_result"
    },
    {
     "data": {
      "image/png": "[encoded data removed]",
      "text/plain": [
       "<Figure size 432x288 with 1 Axes>"
      ]
     },
     "metadata": {
      "needs_background": "light"
     },
     "output_type": "display_data"
    }
   ],
   "source": [
    "df_failed_devices.days_to_failure.hist(bins=50)\n",
    "plt.xlabel('Days to failure')"
   ]
  },
  {
   "cell_type": "markdown",
   "metadata": {},
   "source": [
    "It appears that we have some negative days to failure. That means a failure occured and we still were reported data. Lets drop these records and look again."
   ]
  },
  {
   "cell_type": "code",
   "execution_count": 19,
   "metadata": {},
   "outputs": [
    {
     "data": {
      "text/plain": [
       "Text(0.5, 0, 'Days to failure')"
      ]
     },
     "execution_count": 19,
     "metadata": {},
     "output_type": "execute_result"
    },
    {
     "data": {
      "image/png": "[encoded data removed]",
      "text/plain": [
       "<Figure size 432x288 with 1 Axes>"
      ]
     },
     "metadata": {
      "needs_background": "light"
     },
     "output_type": "display_data"
    }
   ],
   "source": [
    "df_failed_devices = df_failed_devices[df_failed_devices.days_to_failure >= 0]\n",
    "df_failed_devices.days_to_failure.hist(bins=50)\n",
    "plt.xlabel('Days to failure')"
   ]
  },
  {
   "cell_type": "markdown",
   "metadata": {},
   "source": [
    "This looks better. Lets see if we can build a regression model that will predict the remaining life of a device. For this task we will use RMSE as our evaluation metric. RMSE is interpretable and is sensitive to outliers. It is interpretable because it is on the same scale as the original data. The sensativity to outliers means that just one very bad prediction will result in a much higher RMSE, this is a good property to have because we want all of our predictions to be as close to reality as possible."
   ]
  },
  {
   "cell_type": "code",
   "execution_count": 20,
   "metadata": {},
   "outputs": [],
   "source": [
    "from sklearn.metrics import mean_squared_error\n",
    "\n",
    "from sklearn.linear_model import LinearRegression\n",
    "from sklearn.svm import SVR\n",
    "from sklearn.neighbors import KNeighborsRegressor\n",
    "from sklearn.gaussian_process import GaussianProcessRegressor\n",
    "from sklearn.tree import DecisionTreeRegressor\n",
    "from sklearn.ensemble import RandomForestRegressor, AdaBoostRegressor, GradientBoostingRegressor\n",
    "from sklearn.neural_network import MLPRegressor\n",
    "\n",
    "names = [\"Linear Regression\", \"SVM\", \"KNN\", \"Gaussian Process\", \"Decision Tree\",\n",
    "         \"Random Forrest\", \"AdaBoost\", \"Gradient Boosting\", \"Neural Net\"]\n",
    "\n",
    "regressors = [\n",
    "    LinearRegression(),\n",
    "    SVR(),\n",
    "    KNeighborsRegressor(),\n",
    "    GaussianProcessRegressor(),\n",
    "    DecisionTreeRegressor(),\n",
    "    RandomForestRegressor(),\n",
    "    AdaBoostRegressor(base_estimator=DecisionTreeRegressor()),\n",
    "    GradientBoostingRegressor(max_depth=None),\n",
    "    MLPRegressor(max_iter=1000)\n",
    "]"
   ]
  },
  {
   "cell_type": "markdown",
   "metadata": {},
   "source": [
    "Here we do our test, train split and then test out each model type. Since we are using RMSE for our evaluation metric, we first print out the standard deviation of the data. This is a baseline benchmark. If we predicted the average days to failure and then measured the RMSE then we would get the standard deviation. We aim to do better than this."
   ]
  },
  {
   "cell_type": "code",
   "execution_count": 21,
   "metadata": {},
   "outputs": [
    {
     "name": "stdout",
     "output_type": "stream",
     "text": [
      "Standard Deviation: 60.79494247763844\n",
      "\n",
      "Linear Regression\n",
      "training...\n",
      "predicting...\n",
      "RMSE: 59.58752185387237\n",
      "\n",
      "SVM\n",
      "training...\n",
      "predicting...\n",
      "RMSE: 57.10223668127305\n",
      "\n",
      "KNN\n",
      "training...\n",
      "predicting...\n",
      "RMSE: 49.59407147028766\n",
      "\n",
      "Gaussian Process\n",
      "training...\n",
      "predicting...\n",
      "RMSE: 5901.997847362485\n",
      "\n",
      "Decision Tree\n",
      "training...\n",
      "predicting...\n",
      "RMSE: 25.95414827151914\n",
      "\n",
      "Random Forrest\n",
      "training...\n",
      "predicting...\n"
     ]
    },
    {
     "name": "stderr",
     "output_type": "stream",
     "text": [
      "/Users/dueghis/opt/anaconda3/lib/python3.7/site-packages/sklearn/ensemble/forest.py:245: FutureWarning: The default value of n_estimators will change from 10 in version 0.20 to 100 in 0.22.\n",
      "  \"10 in version 0.20 to 100 in 0.22.\", FutureWarning)\n"
     ]
    },
    {
     "name": "stdout",
     "output_type": "stream",
     "text": [
      "RMSE: 22.552527782379517\n",
      "\n",
      "AdaBoost\n",
      "training...\n",
      "predicting...\n",
      "RMSE: 25.36819490030775\n",
      "\n",
      "Gradient Boosting\n",
      "training...\n",
      "predicting...\n",
      "RMSE: 25.835114324846188\n",
      "\n",
      "Neural Net\n",
      "training...\n",
      "predicting...\n",
      "RMSE: 52.480832044508304\n",
      "\n"
     ]
    },
    {
     "name": "stderr",
     "output_type": "stream",
     "text": [
      "/Users/dueghis/opt/anaconda3/lib/python3.7/site-packages/sklearn/neural_network/multilayer_perceptron.py:566: ConvergenceWarning: Stochastic Optimizer: Maximum iterations (1000) reached and the optimization hasn't converged yet.\n",
      "  % self.max_iter, ConvergenceWarning)\n"
     ]
    }
   ],
   "source": [
    "X = df_failed_devices.filter(regex='metric', axis='columns')\n",
    "y = df_failed_devices.days_to_failure\n",
    "\n",
    "X_train, X_test, y_train, y_test = train_test_split(X, y, test_size = 0.3, random_state = 0)\n",
    "scaler = StandardScaler()\n",
    "scaler.fit(X_train)\n",
    "X_train = scaler.transform(X_train)\n",
    "X_test = scaler.transform(X_test)\n",
    "\n",
    "print('Standard Deviation: {}\\n'.format(np.std(y_test)))\n",
    "\n",
    "for name, rgr in zip(names, regressors):\n",
    "    print(name)\n",
    "    print('training...')\n",
    "    rgr.fit(X_train, y_train)\n",
    "    print('predicting...')\n",
    "    predictions = rgr.predict(X_test)\n",
    "    print('RMSE: {}\\n'.format(np.sqrt(mean_squared_error(y_test, predictions))))"
   ]
  },
  {
   "cell_type": "markdown",
   "metadata": {},
   "source": [
    "It appears that the Random Forrest model is the best out of the box. Lets do some hyperparameter tuning to see if we can make it better."
   ]
  },
  {
   "cell_type": "code",
   "execution_count": 22,
   "metadata": {},
   "outputs": [],
   "source": [
    "from sklearn.model_selection import RandomizedSearchCV"
   ]
  },
  {
   "cell_type": "markdown",
   "metadata": {},
   "source": [
    "Now we set up the random grid search space and run the experiment."
   ]
  },
  {
   "cell_type": "code",
   "execution_count": null,
   "metadata": {},
   "outputs": [
    {
     "name": "stdout",
     "output_type": "stream",
     "text": [
      "Fitting 3 folds for each of 100 candidates, totalling 300 fits\n"
     ]
    },
    {
     "name": "stderr",
     "output_type": "stream",
     "text": [
      "[Parallel(n_jobs=-1)]: Using backend LokyBackend with 8 concurrent workers.\n",
      "[Parallel(n_jobs=-1)]: Done  25 tasks      | elapsed:   54.3s\n"
     ]
    }
   ],
   "source": [
    "n_estimators = [int(x) for x in np.linspace(start = 200, stop = 2000, num = 10)]\n",
    "max_features = ['auto', 'sqrt']\n",
    "max_depth = [int(x) for x in np.linspace(10, 110, num = 11)]\n",
    "max_depth.append(None)\n",
    "\n",
    "min_samples_split = [2, 5, 10]\n",
    "min_samples_leaf = [1, 2, 4]\n",
    "bootstrap = [True, False]\n",
    "\n",
    "random_grid = {'n_estimators': n_estimators,\n",
    "               'max_features': max_features,\n",
    "               'max_depth': max_depth,\n",
    "               'min_samples_split': min_samples_split,\n",
    "               'min_samples_leaf': min_samples_leaf,\n",
    "               'bootstrap': bootstrap}\n",
    "\n",
    "rf = RandomForestRegressor()\n",
    "\n",
    "rf_random = RandomizedSearchCV(\n",
    "    estimator = rf, \n",
    "    param_distributions = random_grid, \n",
    "    n_iter = 100, \n",
    "    cv = 3, \n",
    "    verbose=2, \n",
    "    random_state=42, \n",
    "    n_jobs = -1)\n",
    "\n",
    "rf_random.fit(X_train, y_train)"
   ]
  },
  {
   "cell_type": "code",
   "execution_count": null,
   "metadata": {},
   "outputs": [],
   "source": [
    "predictions = rf_random.best_estimator_.predict(X_test)\n",
    "print('RMSE: {}\\n'.format(np.sqrt(mean_squared_error(y_test, predictions))))"
   ]
  },
  {
   "cell_type": "markdown",
   "metadata": {},
   "source": [
    "So after some hyper parameter tuning, we reduced the RMSE from 22.5 to 21.5, this can be intepreted as the average error has been reduced by a day which is not bad. Now lets see how the residuals are distributed."
   ]
  },
  {
   "cell_type": "code",
   "execution_count": null,
   "metadata": {},
   "outputs": [],
   "source": [
    "residuals = predictions - y_test\n",
    "five_percent = np.percentile(residuals, 5)\n",
    "median = np.percentile(residuals, 50)\n",
    "ninty_five_percent = np.percentile(residuals, 95)\n",
    "\n",
    "print(five_percent, ninty_five_percent)\n",
    "\n",
    "x = np.arange(0, 300, 1)\n",
    "y_ninety_five = x + ninty_five_percent\n",
    "y_median = x + median\n",
    "y_five = x[25:] + five_percent\n",
    "\n",
    "fig, ax = plt.subplots(figsize = (10, 8))\n",
    "ax.scatter(y_test, predictions)\n",
    "ax.plot(x, y_median, 'k:', label='median')\n",
    "ax.plot(x, y_ninety_five, 'r--', label='95th Percentile')\n",
    "ax.plot(x[25:], y_five, 'r--', label='5th Percentile')\n",
    "\n",
    "ax.set_xlabel('Actual Time to Failure')\n",
    "ax.set_ylabel('Predicted Time to Failure')\n",
    "ax.set_title('Residual Time to Failures')\n",
    "ax.grid('on')\n",
    "ax.legend()"
   ]
  },
  {
   "cell_type": "markdown",
   "metadata": {},
   "source": [
    "The final model is able to predict 90% of failures within a 52 day window. This is the area between the red dotted lines seen above. This may or may not be adequate for the companies purposes but it does allow for some proactive maintenence to be scheduled based on sensor readings and this model. \n",
    "\n",
    "## Model in Practice\n",
    "\n",
    "To put it into practice we can say that any say that any device that is predicted to fail within N days will be scheduled for maintenence. Let us see how it performs on the non-failed devices. For a concrete example we will look for devices that are predicted to fail in the next 15 days.\n",
    "\n",
    "We filter down to our un-failed devices and then scale the sensor data to prepare it for prediction and then pass it through our best estimator."
   ]
  },
  {
   "cell_type": "code",
   "execution_count": null,
   "metadata": {},
   "outputs": [],
   "source": [
    "failed_devices = df[df.failure == 1].device.unique()\n",
    "all_devices = df.device.unique()\n",
    "unfailed_devices = [device for device in all_devices if device not in failed_devices]\n",
    "df_unfailed = df[df.device.isin(unfailed_devices)]\n",
    "X_unfailed = scaler.transform(df_unfailed.filter(regex='metric'))\n",
    "unfailed_predictions = rf_random.best_estimator_.predict(X_unfailed)\n",
    "df_unfailed['predicted_days_to_fail'] = unfailed_predictions"
   ]
  },
  {
   "cell_type": "markdown",
   "metadata": {},
   "source": [
    "Lets check the distribution of predicted days to failure."
   ]
  },
  {
   "cell_type": "code",
   "execution_count": null,
   "metadata": {},
   "outputs": [],
   "source": [
    "df_unfailed.predicted_days_to_fail.hist(bins=50)\n",
    "plt.xlabel('Predicted Days to Failure')"
   ]
  },
  {
   "cell_type": "markdown",
   "metadata": {},
   "source": [
    "Lets check to see how many unfailed devices there are and compare it with the number of devices that we have predicted to fail within the next 15 days."
   ]
  },
  {
   "cell_type": "code",
   "execution_count": null,
   "metadata": {},
   "outputs": [],
   "source": [
    "EXPECTED_FAIL_DAYS = 15\n",
    "num_unfailed_devices = len(df_unfailed.device.unique())\n",
    "num_predicted_to_fail = len(df_unfailed[df_unfailed.predicted_days_to_fail <= EXPECTED_FAIL_DAYS].device.unique())\n",
    "print('There are {} unfailed devices, we expect {} to fail in {} days.'.format(num_unfailed_devices, num_predicted_to_fail, EXPECTED_FAIL_DAYS))"
   ]
  },
  {
   "cell_type": "markdown",
   "metadata": {},
   "source": [
    "Now lets see how these devices that are expected to fail in the next 15 days are distributed through time."
   ]
  },
  {
   "cell_type": "code",
   "execution_count": null,
   "metadata": {},
   "outputs": [],
   "source": [
    "expected_failures = {}\n",
    "for device in unfailed_devices:\n",
    "    df_device_unfailed = df_unfailed[df_unfailed.device == device]\n",
    "    df_expected_fail = df_device_unfailed[df_device_unfailed.predicted_days_to_fail <= EXPECTED_FAIL_DAYS]\n",
    "    if len(df_expected_fail): # Check to see if these device is expected to fail in our timeframe\n",
    "        expected_fail_date = df_expected_fail.index.min()\n",
    "        if expected_fail_date in expected_failures.keys():\n",
    "            expected_failures[expected_fail_date] += 1\n",
    "        else:\n",
    "            expected_failures[expected_fail_date] = 1"
   ]
  },
  {
   "cell_type": "code",
   "execution_count": null,
   "metadata": {},
   "outputs": [],
   "source": [
    "dates = df_unfailed.predicted_days_to_fail.resample('D').count().index\n",
    "values = df_unfailed.predicted_days_to_fail.resample('D').count().values\n",
    "\n",
    "fig, ax = plt.subplots(figsize = (10, 8))\n",
    "\n",
    "l_counts = ax.plot(dates, values, 'b-', label='Count of Unfailed instances on date')\n",
    "\n",
    "lists = sorted(expected_failures.items()) \n",
    "dates_fails, num_expected_fails = zip(*lists) \n",
    "l_falures = ax.plot(dates_fails, num_expected_fails, 'ro', label='Expected Failure in {} Days'.format(EXPECTED_FAIL_DAYS))\n",
    "\n",
    "ax.set_ylabel('Number of Occurances')\n",
    "ax.set_xlabel('Date')\n",
    "ax.set_title('Predicted Failures in {} Days Distribution Through Time'.format(EXPECTED_FAIL_DAYS))\n",
    "ax.grid('on')\n",
    "_ = ax.legend(loc = 'best')"
   ]
  },
  {
   "cell_type": "markdown",
   "metadata": {},
   "source": [
    "## Final thoughts\n",
    "\n",
    "This was a first pass at a predictive maintenence solution. It seems to have worked in the sense that this model gave guidance to how long a device had until a failure based on the different metrics. The model was working much better than simply predicting the average time to failure.\n",
    "\n",
    "This is just one method to attempt to solve this problem. Other methods could be to employ survival analysis in the form of a Cox Regression. Also some kind of RNN could have been developed to see if it performed better than the classical machine learning methods that were employed. The solution to a data science problem can always be improved in any number of ways."
   ]
  }
 ],
 "metadata": {
  "kernelspec": {
   "display_name": "Python 3",
   "language": "python",
   "name": "python3"
  },
  "language_info": {
   "codemirror_mode": {
    "name": "ipython",
    "version": 3
   },
   "file_extension": ".py",
   "mimetype": "text/x-python",
   "name": "python",
   "nbconvert_exporter": "python",
   "pygments_lexer": "ipython3",
   "version": "3.7.4"
  }
 },
 "nbformat": 4,
 "nbformat_minor": 2
}
