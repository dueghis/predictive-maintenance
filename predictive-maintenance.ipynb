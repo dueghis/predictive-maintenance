{
 "cells": [
  {
   "cell_type": "code",
   "execution_count": 1,
   "metadata": {},
   "outputs": [],
   "source": [
    "import os\n",
    "import numpy as np\n",
    "import pandas as pd\n",
    "import matplotlib.pyplot as plt"
   ]
  },
  {
   "cell_type": "markdown",
   "metadata": {},
   "source": [
    "## BACKGROUND\n",
    "A company has a fleet of devices transmitting daily telemetry readings. They would like to create a predictive\n",
    "maintenance solution to proactively identify when maintenance should be performed. This approach promises cost\n",
    "savings over routine or time-based preventive maintenance, because tasks are performed only when warranted.\n",
    "\n",
    "## GOAL\n",
    "You are tasked with building a predictive model using machine learning to predict the probability of a device failure.\n",
    "When building this model, be sure to minimize false positives and false negatives. The column you are trying to predict\n",
    "is called failure with binary value 0 for non-failure and 1 for failure.\n",
    "\n",
    "## DATA\n",
    "Download link: http://aws-proserve-data-science.s3.amazonaws.com/predictive_maintenance.csv"
   ]
  },
  {
   "cell_type": "markdown",
   "metadata": {},
   "source": [
    "Download and read in the dataset"
   ]
  },
  {
   "cell_type": "code",
   "execution_count": 2,
   "metadata": {},
   "outputs": [],
   "source": [
    "if not os.path.isfile('predictive_maintenance.csv'):\n",
    "    !wget 'http://aws-proserve-data-science.s3.amazonaws.com/predictive_maintenance.csv'"
   ]
  },
  {
   "cell_type": "code",
   "execution_count": 3,
   "metadata": {},
   "outputs": [
    {
     "data": {
      "text/html": [
       "<div>\n",
       "<style scoped>\n",
       "    .dataframe tbody tr th:only-of-type {\n",
       "        vertical-align: middle;\n",
       "    }\n",
       "\n",
       "    .dataframe tbody tr th {\n",
       "        vertical-align: top;\n",
       "    }\n",
       "\n",
       "    .dataframe thead th {\n",
       "        text-align: right;\n",
       "    }\n",
       "</style>\n",
       "<table border=\"1\" class=\"dataframe\">\n",
       "  <thead>\n",
       "    <tr style=\"text-align: right;\">\n",
       "      <th></th>\n",
       "      <th>device</th>\n",
       "      <th>failure</th>\n",
       "      <th>metric1</th>\n",
       "      <th>metric2</th>\n",
       "      <th>metric3</th>\n",
       "      <th>metric4</th>\n",
       "      <th>metric5</th>\n",
       "      <th>metric6</th>\n",
       "      <th>metric7</th>\n",
       "      <th>metric8</th>\n",
       "      <th>metric9</th>\n",
       "    </tr>\n",
       "    <tr>\n",
       "      <th>date</th>\n",
       "      <th></th>\n",
       "      <th></th>\n",
       "      <th></th>\n",
       "      <th></th>\n",
       "      <th></th>\n",
       "      <th></th>\n",
       "      <th></th>\n",
       "      <th></th>\n",
       "      <th></th>\n",
       "      <th></th>\n",
       "      <th></th>\n",
       "    </tr>\n",
       "  </thead>\n",
       "  <tbody>\n",
       "    <tr>\n",
       "      <td>2015-01-01</td>\n",
       "      <td>S1F01085</td>\n",
       "      <td>0</td>\n",
       "      <td>215630672</td>\n",
       "      <td>56</td>\n",
       "      <td>0</td>\n",
       "      <td>52</td>\n",
       "      <td>6</td>\n",
       "      <td>407438</td>\n",
       "      <td>0</td>\n",
       "      <td>0</td>\n",
       "      <td>7</td>\n",
       "    </tr>\n",
       "    <tr>\n",
       "      <td>2015-01-01</td>\n",
       "      <td>S1F0166B</td>\n",
       "      <td>0</td>\n",
       "      <td>61370680</td>\n",
       "      <td>0</td>\n",
       "      <td>3</td>\n",
       "      <td>0</td>\n",
       "      <td>6</td>\n",
       "      <td>403174</td>\n",
       "      <td>0</td>\n",
       "      <td>0</td>\n",
       "      <td>0</td>\n",
       "    </tr>\n",
       "    <tr>\n",
       "      <td>2015-01-01</td>\n",
       "      <td>S1F01E6Y</td>\n",
       "      <td>0</td>\n",
       "      <td>173295968</td>\n",
       "      <td>0</td>\n",
       "      <td>0</td>\n",
       "      <td>0</td>\n",
       "      <td>12</td>\n",
       "      <td>237394</td>\n",
       "      <td>0</td>\n",
       "      <td>0</td>\n",
       "      <td>0</td>\n",
       "    </tr>\n",
       "    <tr>\n",
       "      <td>2015-01-01</td>\n",
       "      <td>S1F01JE0</td>\n",
       "      <td>0</td>\n",
       "      <td>79694024</td>\n",
       "      <td>0</td>\n",
       "      <td>0</td>\n",
       "      <td>0</td>\n",
       "      <td>6</td>\n",
       "      <td>410186</td>\n",
       "      <td>0</td>\n",
       "      <td>0</td>\n",
       "      <td>0</td>\n",
       "    </tr>\n",
       "    <tr>\n",
       "      <td>2015-01-01</td>\n",
       "      <td>S1F01R2B</td>\n",
       "      <td>0</td>\n",
       "      <td>135970480</td>\n",
       "      <td>0</td>\n",
       "      <td>0</td>\n",
       "      <td>0</td>\n",
       "      <td>15</td>\n",
       "      <td>313173</td>\n",
       "      <td>0</td>\n",
       "      <td>0</td>\n",
       "      <td>3</td>\n",
       "    </tr>\n",
       "  </tbody>\n",
       "</table>\n",
       "</div>"
      ],
      "text/plain": [
       "              device  failure    metric1  metric2  metric3  metric4  metric5  \\\n",
       "date                                                                           \n",
       "2015-01-01  S1F01085        0  215630672       56        0       52        6   \n",
       "2015-01-01  S1F0166B        0   61370680        0        3        0        6   \n",
       "2015-01-01  S1F01E6Y        0  173295968        0        0        0       12   \n",
       "2015-01-01  S1F01JE0        0   79694024        0        0        0        6   \n",
       "2015-01-01  S1F01R2B        0  135970480        0        0        0       15   \n",
       "\n",
       "            metric6  metric7  metric8  metric9  \n",
       "date                                            \n",
       "2015-01-01   407438        0        0        7  \n",
       "2015-01-01   403174        0        0        0  \n",
       "2015-01-01   237394        0        0        0  \n",
       "2015-01-01   410186        0        0        0  \n",
       "2015-01-01   313173        0        0        3  "
      ]
     },
     "execution_count": 3,
     "metadata": {},
     "output_type": "execute_result"
    }
   ],
   "source": [
    "df = pd.read_csv('predictive_maintenance.csv', parse_dates =['date'], index_col ='date')\n",
    "df.head()"
   ]
  },
  {
   "cell_type": "markdown",
   "metadata": {},
   "source": [
    "It looks like this is a time series because there is a date column. It looks like there are individual devices that are identified by `device` column. There are 9 `metric` columns.\n",
    "\n",
    "The task is to predict a failure so lets check and see how the `failure` column is distributed."
   ]
  },
  {
   "cell_type": "code",
   "execution_count": 4,
   "metadata": {},
   "outputs": [
    {
     "data": {
      "text/plain": [
       "0    124388\n",
       "1       106\n",
       "Name: failure, dtype: int64"
      ]
     },
     "execution_count": 4,
     "metadata": {},
     "output_type": "execute_result"
    }
   ],
   "source": [
    "df.failure.value_counts()"
   ]
  },
  {
   "cell_type": "markdown",
   "metadata": {},
   "source": [
    "This looks like a very imballanced dataset. There are 124,388 nonfailure instanes and 106 failures, which is a failure rate of less than 1%."
   ]
  },
  {
   "cell_type": "markdown",
   "metadata": {},
   "source": [
    "Lets see how many unique devices there are and how many of them have failures and how many of them don't have a failure."
   ]
  },
  {
   "cell_type": "code",
   "execution_count": 5,
   "metadata": {},
   "outputs": [
    {
     "name": "stdout",
     "output_type": "stream",
     "text": [
      "There are 1169 total devices\n",
      "There are 106 total failure devices\n"
     ]
    }
   ],
   "source": [
    "total_devices = len(df.device.unique())\n",
    "print('There are {} total devices'.format(total_devices))\n",
    "\n",
    "total_failure_devices = len(df[df.failure == 1].device.unique())\n",
    "print('There are {} total failure devices'.format(total_failure_devices))"
   ]
  },
  {
   "cell_type": "markdown",
   "metadata": {},
   "source": [
    "It appears that just under 10% of devices have a failure in this data set which is still imbalanced but much less so which viewed this way.\n",
    "\n",
    "Lets check how the data is distibuted through time."
   ]
  },
  {
   "cell_type": "code",
   "execution_count": 6,
   "metadata": {},
   "outputs": [
    {
     "name": "stderr",
     "output_type": "stream",
     "text": [
      "/Users/dueghis/opt/anaconda3/lib/python3.7/site-packages/pandas/plotting/_matplotlib/converter.py:103: FutureWarning: Using an implicitly registered datetime converter for a matplotlib plotting method. The converter was registered by pandas on import. Future versions of pandas will require you to explicitly register matplotlib converters.\n",
      "\n",
      "To register the converters:\n",
      "\t>>> from pandas.plotting import register_matplotlib_converters\n",
      "\t>>> register_matplotlib_converters()\n",
      "  warnings.warn(msg, FutureWarning)\n"
     ]
    },
    {
     "data": {
      "image/png": "[encoded data removed]",
      "text/plain": [
       "<Figure size 720x576 with 1 Axes>"
      ]
     },
     "metadata": {
      "needs_background": "light"
     },
     "output_type": "display_data"
    }
   ],
   "source": [
    "dates = df.failure.resample('D').count().index\n",
    "values = df.failure.resample('D').count().values\n",
    "fig, ax = plt.subplots(figsize = (10, 8))\n",
    "l_counts = ax.plot(dates, values, 'b-', label='Count of data instances on date')\n",
    "\n",
    "failures = df.failure.resample('D').sum()\n",
    "failure_dates = failures[failures.values>1].index\n",
    "failure_values = failures[failures.values>1].values\n",
    "l_falures = ax.plot(failure_dates, failure_values, 'ro', label='Non-zero count of failures on date')\n",
    "\n",
    "ax.set_ylabel('Number of Occurances')\n",
    "ax.set_xlabel('Date')\n",
    "ax.set_title('Data Distribution Through Time')\n",
    "ax.grid('on')\n",
    "_ = ax.legend(loc = 'best')"
   ]
  },
  {
   "cell_type": "markdown",
   "metadata": {},
   "source": [
    "The data spans less than one year and it is not uniformily distributed through time. It is front loaded. The failures appear to be grouped together but this may or may not be signifigant.\n",
    "\n",
    "Lets check to see the correlation between variables"
   ]
  },
  {
   "cell_type": "code",
   "execution_count": 7,
   "metadata": {},
   "outputs": [
    {
     "data": {
      "text/html": [
       "<style  type=\"text/css\" >\n",
       "    #T_7b5dcaf8_1846_11ea_bc11_34363bccd3acrow0_col0 {\n",
       "            background-color:  #b40426;\n",
       "            color:  #f1f1f1;\n",
       "        }    #T_7b5dcaf8_1846_11ea_bc11_34363bccd3acrow0_col1 {\n",
       "            background-color:  #3c4ec2;\n",
       "            color:  #f1f1f1;\n",
       "        }    #T_7b5dcaf8_1846_11ea_bc11_34363bccd3acrow0_col2 {\n",
       "            background-color:  #516ddb;\n",
       "            color:  #000000;\n",
       "        }    #T_7b5dcaf8_1846_11ea_bc11_34363bccd3acrow0_col3 {\n",
       "            background-color:  #3c4ec2;\n",
       "            color:  #f1f1f1;\n",
       "        }    #T_7b5dcaf8_1846_11ea_bc11_34363bccd3acrow0_col4 {\n",
       "            background-color:  #516ddb;\n",
       "            color:  #000000;\n",
       "        }    #T_7b5dcaf8_1846_11ea_bc11_34363bccd3acrow0_col5 {\n",
       "            background-color:  #3f53c6;\n",
       "            color:  #f1f1f1;\n",
       "        }    #T_7b5dcaf8_1846_11ea_bc11_34363bccd3acrow0_col6 {\n",
       "            background-color:  #4257c9;\n",
       "            color:  #f1f1f1;\n",
       "        }    #T_7b5dcaf8_1846_11ea_bc11_34363bccd3acrow0_col7 {\n",
       "            background-color:  #6384eb;\n",
       "            color:  #000000;\n",
       "        }    #T_7b5dcaf8_1846_11ea_bc11_34363bccd3acrow0_col8 {\n",
       "            background-color:  #6384eb;\n",
       "            color:  #000000;\n",
       "        }    #T_7b5dcaf8_1846_11ea_bc11_34363bccd3acrow0_col9 {\n",
       "            background-color:  #3c4ec2;\n",
       "            color:  #f1f1f1;\n",
       "        }    #T_7b5dcaf8_1846_11ea_bc11_34363bccd3acrow1_col0 {\n",
       "            background-color:  #3b4cc0;\n",
       "            color:  #f1f1f1;\n",
       "        }    #T_7b5dcaf8_1846_11ea_bc11_34363bccd3acrow1_col1 {\n",
       "            background-color:  #b40426;\n",
       "            color:  #f1f1f1;\n",
       "        }    #T_7b5dcaf8_1846_11ea_bc11_34363bccd3acrow1_col2 {\n",
       "            background-color:  #4055c8;\n",
       "            color:  #f1f1f1;\n",
       "        }    #T_7b5dcaf8_1846_11ea_bc11_34363bccd3acrow1_col3 {\n",
       "            background-color:  #3d50c3;\n",
       "            color:  #f1f1f1;\n",
       "        }    #T_7b5dcaf8_1846_11ea_bc11_34363bccd3acrow1_col4 {\n",
       "            background-color:  #3d50c3;\n",
       "            color:  #f1f1f1;\n",
       "        }    #T_7b5dcaf8_1846_11ea_bc11_34363bccd3acrow1_col5 {\n",
       "            background-color:  #3e51c5;\n",
       "            color:  #f1f1f1;\n",
       "        }    #T_7b5dcaf8_1846_11ea_bc11_34363bccd3acrow1_col6 {\n",
       "            background-color:  #4257c9;\n",
       "            color:  #f1f1f1;\n",
       "        }    #T_7b5dcaf8_1846_11ea_bc11_34363bccd3acrow1_col7 {\n",
       "            background-color:  #3e51c5;\n",
       "            color:  #f1f1f1;\n",
       "        }    #T_7b5dcaf8_1846_11ea_bc11_34363bccd3acrow1_col8 {\n",
       "            background-color:  #3e51c5;\n",
       "            color:  #f1f1f1;\n",
       "        }    #T_7b5dcaf8_1846_11ea_bc11_34363bccd3acrow1_col9 {\n",
       "            background-color:  #3b4cc0;\n",
       "            color:  #f1f1f1;\n",
       "        }    #T_7b5dcaf8_1846_11ea_bc11_34363bccd3acrow2_col0 {\n",
       "            background-color:  #4a63d3;\n",
       "            color:  #f1f1f1;\n",
       "        }    #T_7b5dcaf8_1846_11ea_bc11_34363bccd3acrow2_col1 {\n",
       "            background-color:  #3b4cc0;\n",
       "            color:  #f1f1f1;\n",
       "        }    #T_7b5dcaf8_1846_11ea_bc11_34363bccd3acrow2_col2 {\n",
       "            background-color:  #b40426;\n",
       "            color:  #f1f1f1;\n",
       "        }    #T_7b5dcaf8_1846_11ea_bc11_34363bccd3acrow2_col3 {\n",
       "            background-color:  #3c4ec2;\n",
       "            color:  #f1f1f1;\n",
       "        }    #T_7b5dcaf8_1846_11ea_bc11_34363bccd3acrow2_col4 {\n",
       "            background-color:  #6b8df0;\n",
       "            color:  #000000;\n",
       "        }    #T_7b5dcaf8_1846_11ea_bc11_34363bccd3acrow2_col5 {\n",
       "            background-color:  #3b4cc0;\n",
       "            color:  #f1f1f1;\n",
       "        }    #T_7b5dcaf8_1846_11ea_bc11_34363bccd3acrow2_col6 {\n",
       "            background-color:  #3b4cc0;\n",
       "            color:  #f1f1f1;\n",
       "        }    #T_7b5dcaf8_1846_11ea_bc11_34363bccd3acrow2_col7 {\n",
       "            background-color:  #6a8bef;\n",
       "            color:  #000000;\n",
       "        }    #T_7b5dcaf8_1846_11ea_bc11_34363bccd3acrow2_col8 {\n",
       "            background-color:  #6a8bef;\n",
       "            color:  #000000;\n",
       "        }    #T_7b5dcaf8_1846_11ea_bc11_34363bccd3acrow2_col9 {\n",
       "            background-color:  #3b4cc0;\n",
       "            color:  #f1f1f1;\n",
       "        }    #T_7b5dcaf8_1846_11ea_bc11_34363bccd3acrow3_col0 {\n",
       "            background-color:  #3b4cc0;\n",
       "            color:  #f1f1f1;\n",
       "        }    #T_7b5dcaf8_1846_11ea_bc11_34363bccd3acrow3_col1 {\n",
       "            background-color:  #3d50c3;\n",
       "            color:  #f1f1f1;\n",
       "        }    #T_7b5dcaf8_1846_11ea_bc11_34363bccd3acrow3_col2 {\n",
       "            background-color:  #4055c8;\n",
       "            color:  #f1f1f1;\n",
       "        }    #T_7b5dcaf8_1846_11ea_bc11_34363bccd3acrow3_col3 {\n",
       "            background-color:  #b40426;\n",
       "            color:  #f1f1f1;\n",
       "        }    #T_7b5dcaf8_1846_11ea_bc11_34363bccd3acrow3_col4 {\n",
       "            background-color:  #5b7ae5;\n",
       "            color:  #000000;\n",
       "        }    #T_7b5dcaf8_1846_11ea_bc11_34363bccd3acrow3_col5 {\n",
       "            background-color:  #3d50c3;\n",
       "            color:  #f1f1f1;\n",
       "        }    #T_7b5dcaf8_1846_11ea_bc11_34363bccd3acrow3_col6 {\n",
       "            background-color:  #445acc;\n",
       "            color:  #f1f1f1;\n",
       "        }    #T_7b5dcaf8_1846_11ea_bc11_34363bccd3acrow3_col7 {\n",
       "            background-color:  #3d50c3;\n",
       "            color:  #f1f1f1;\n",
       "        }    #T_7b5dcaf8_1846_11ea_bc11_34363bccd3acrow3_col8 {\n",
       "            background-color:  #3d50c3;\n",
       "            color:  #f1f1f1;\n",
       "        }    #T_7b5dcaf8_1846_11ea_bc11_34363bccd3acrow3_col9 {\n",
       "            background-color:  #e5d8d1;\n",
       "            color:  #000000;\n",
       "        }    #T_7b5dcaf8_1846_11ea_bc11_34363bccd3acrow4_col0 {\n",
       "            background-color:  #4f69d9;\n",
       "            color:  #000000;\n",
       "        }    #T_7b5dcaf8_1846_11ea_bc11_34363bccd3acrow4_col1 {\n",
       "            background-color:  #3c4ec2;\n",
       "            color:  #f1f1f1;\n",
       "        }    #T_7b5dcaf8_1846_11ea_bc11_34363bccd3acrow4_col2 {\n",
       "            background-color:  #7093f3;\n",
       "            color:  #000000;\n",
       "        }    #T_7b5dcaf8_1846_11ea_bc11_34363bccd3acrow4_col3 {\n",
       "            background-color:  #5a78e4;\n",
       "            color:  #000000;\n",
       "        }    #T_7b5dcaf8_1846_11ea_bc11_34363bccd3acrow4_col4 {\n",
       "            background-color:  #b40426;\n",
       "            color:  #f1f1f1;\n",
       "        }    #T_7b5dcaf8_1846_11ea_bc11_34363bccd3acrow4_col5 {\n",
       "            background-color:  #3c4ec2;\n",
       "            color:  #f1f1f1;\n",
       "        }    #T_7b5dcaf8_1846_11ea_bc11_34363bccd3acrow4_col6 {\n",
       "            background-color:  #4961d2;\n",
       "            color:  #f1f1f1;\n",
       "        }    #T_7b5dcaf8_1846_11ea_bc11_34363bccd3acrow4_col7 {\n",
       "            background-color:  #4b64d5;\n",
       "            color:  #f1f1f1;\n",
       "        }    #T_7b5dcaf8_1846_11ea_bc11_34363bccd3acrow4_col8 {\n",
       "            background-color:  #4b64d5;\n",
       "            color:  #f1f1f1;\n",
       "        }    #T_7b5dcaf8_1846_11ea_bc11_34363bccd3acrow4_col9 {\n",
       "            background-color:  #455cce;\n",
       "            color:  #f1f1f1;\n",
       "        }    #T_7b5dcaf8_1846_11ea_bc11_34363bccd3acrow5_col0 {\n",
       "            background-color:  #3b4cc0;\n",
       "            color:  #f1f1f1;\n",
       "        }    #T_7b5dcaf8_1846_11ea_bc11_34363bccd3acrow5_col1 {\n",
       "            background-color:  #3b4cc0;\n",
       "            color:  #f1f1f1;\n",
       "        }    #T_7b5dcaf8_1846_11ea_bc11_34363bccd3acrow5_col2 {\n",
       "            background-color:  #3e51c5;\n",
       "            color:  #f1f1f1;\n",
       "        }    #T_7b5dcaf8_1846_11ea_bc11_34363bccd3acrow5_col3 {\n",
       "            background-color:  #3b4cc0;\n",
       "            color:  #f1f1f1;\n",
       "        }    #T_7b5dcaf8_1846_11ea_bc11_34363bccd3acrow5_col4 {\n",
       "            background-color:  #3b4cc0;\n",
       "            color:  #f1f1f1;\n",
       "        }    #T_7b5dcaf8_1846_11ea_bc11_34363bccd3acrow5_col5 {\n",
       "            background-color:  #b40426;\n",
       "            color:  #f1f1f1;\n",
       "        }    #T_7b5dcaf8_1846_11ea_bc11_34363bccd3acrow5_col6 {\n",
       "            background-color:  #3d50c3;\n",
       "            color:  #f1f1f1;\n",
       "        }    #T_7b5dcaf8_1846_11ea_bc11_34363bccd3acrow5_col7 {\n",
       "            background-color:  #3b4cc0;\n",
       "            color:  #f1f1f1;\n",
       "        }    #T_7b5dcaf8_1846_11ea_bc11_34363bccd3acrow5_col8 {\n",
       "            background-color:  #3b4cc0;\n",
       "            color:  #f1f1f1;\n",
       "        }    #T_7b5dcaf8_1846_11ea_bc11_34363bccd3acrow5_col9 {\n",
       "            background-color:  #3d50c3;\n",
       "            color:  #f1f1f1;\n",
       "        }    #T_7b5dcaf8_1846_11ea_bc11_34363bccd3acrow6_col0 {\n",
       "            background-color:  #3b4cc0;\n",
       "            color:  #f1f1f1;\n",
       "        }    #T_7b5dcaf8_1846_11ea_bc11_34363bccd3acrow6_col1 {\n",
       "            background-color:  #3b4cc0;\n",
       "            color:  #f1f1f1;\n",
       "        }    #T_7b5dcaf8_1846_11ea_bc11_34363bccd3acrow6_col2 {\n",
       "            background-color:  #3b4cc0;\n",
       "            color:  #f1f1f1;\n",
       "        }    #T_7b5dcaf8_1846_11ea_bc11_34363bccd3acrow6_col3 {\n",
       "            background-color:  #3e51c5;\n",
       "            color:  #f1f1f1;\n",
       "        }    #T_7b5dcaf8_1846_11ea_bc11_34363bccd3acrow6_col4 {\n",
       "            background-color:  #445acc;\n",
       "            color:  #f1f1f1;\n",
       "        }    #T_7b5dcaf8_1846_11ea_bc11_34363bccd3acrow6_col5 {\n",
       "            background-color:  #3b4cc0;\n",
       "            color:  #f1f1f1;\n",
       "        }    #T_7b5dcaf8_1846_11ea_bc11_34363bccd3acrow6_col6 {\n",
       "            background-color:  #b40426;\n",
       "            color:  #f1f1f1;\n",
       "        }    #T_7b5dcaf8_1846_11ea_bc11_34363bccd3acrow6_col7 {\n",
       "            background-color:  #3b4cc0;\n",
       "            color:  #f1f1f1;\n",
       "        }    #T_7b5dcaf8_1846_11ea_bc11_34363bccd3acrow6_col8 {\n",
       "            background-color:  #3b4cc0;\n",
       "            color:  #f1f1f1;\n",
       "        }    #T_7b5dcaf8_1846_11ea_bc11_34363bccd3acrow6_col9 {\n",
       "            background-color:  #4257c9;\n",
       "            color:  #f1f1f1;\n",
       "        }    #T_7b5dcaf8_1846_11ea_bc11_34363bccd3acrow7_col0 {\n",
       "            background-color:  #5f7fe8;\n",
       "            color:  #000000;\n",
       "        }    #T_7b5dcaf8_1846_11ea_bc11_34363bccd3acrow7_col1 {\n",
       "            background-color:  #3c4ec2;\n",
       "            color:  #f1f1f1;\n",
       "        }    #T_7b5dcaf8_1846_11ea_bc11_34363bccd3acrow7_col2 {\n",
       "            background-color:  #6e90f2;\n",
       "            color:  #000000;\n",
       "        }    #T_7b5dcaf8_1846_11ea_bc11_34363bccd3acrow7_col3 {\n",
       "            background-color:  #3c4ec2;\n",
       "            color:  #f1f1f1;\n",
       "        }    #T_7b5dcaf8_1846_11ea_bc11_34363bccd3acrow7_col4 {\n",
       "            background-color:  #4b64d5;\n",
       "            color:  #f1f1f1;\n",
       "        }    #T_7b5dcaf8_1846_11ea_bc11_34363bccd3acrow7_col5 {\n",
       "            background-color:  #3c4ec2;\n",
       "            color:  #f1f1f1;\n",
       "        }    #T_7b5dcaf8_1846_11ea_bc11_34363bccd3acrow7_col6 {\n",
       "            background-color:  #3e51c5;\n",
       "            color:  #f1f1f1;\n",
       "        }    #T_7b5dcaf8_1846_11ea_bc11_34363bccd3acrow7_col7 {\n",
       "            background-color:  #b40426;\n",
       "            color:  #f1f1f1;\n",
       "        }    #T_7b5dcaf8_1846_11ea_bc11_34363bccd3acrow7_col8 {\n",
       "            background-color:  #b40426;\n",
       "            color:  #f1f1f1;\n",
       "        }    #T_7b5dcaf8_1846_11ea_bc11_34363bccd3acrow7_col9 {\n",
       "            background-color:  #3d50c3;\n",
       "            color:  #f1f1f1;\n",
       "        }    #T_7b5dcaf8_1846_11ea_bc11_34363bccd3acrow8_col0 {\n",
       "            background-color:  #5f7fe8;\n",
       "            color:  #000000;\n",
       "        }    #T_7b5dcaf8_1846_11ea_bc11_34363bccd3acrow8_col1 {\n",
       "            background-color:  #3c4ec2;\n",
       "            color:  #f1f1f1;\n",
       "        }    #T_7b5dcaf8_1846_11ea_bc11_34363bccd3acrow8_col2 {\n",
       "            background-color:  #6e90f2;\n",
       "            color:  #000000;\n",
       "        }    #T_7b5dcaf8_1846_11ea_bc11_34363bccd3acrow8_col3 {\n",
       "            background-color:  #3c4ec2;\n",
       "            color:  #f1f1f1;\n",
       "        }    #T_7b5dcaf8_1846_11ea_bc11_34363bccd3acrow8_col4 {\n",
       "            background-color:  #4b64d5;\n",
       "            color:  #f1f1f1;\n",
       "        }    #T_7b5dcaf8_1846_11ea_bc11_34363bccd3acrow8_col5 {\n",
       "            background-color:  #3c4ec2;\n",
       "            color:  #f1f1f1;\n",
       "        }    #T_7b5dcaf8_1846_11ea_bc11_34363bccd3acrow8_col6 {\n",
       "            background-color:  #3e51c5;\n",
       "            color:  #f1f1f1;\n",
       "        }    #T_7b5dcaf8_1846_11ea_bc11_34363bccd3acrow8_col7 {\n",
       "            background-color:  #b40426;\n",
       "            color:  #f1f1f1;\n",
       "        }    #T_7b5dcaf8_1846_11ea_bc11_34363bccd3acrow8_col8 {\n",
       "            background-color:  #b40426;\n",
       "            color:  #f1f1f1;\n",
       "        }    #T_7b5dcaf8_1846_11ea_bc11_34363bccd3acrow8_col9 {\n",
       "            background-color:  #3d50c3;\n",
       "            color:  #f1f1f1;\n",
       "        }    #T_7b5dcaf8_1846_11ea_bc11_34363bccd3acrow9_col0 {\n",
       "            background-color:  #3b4cc0;\n",
       "            color:  #f1f1f1;\n",
       "        }    #T_7b5dcaf8_1846_11ea_bc11_34363bccd3acrow9_col1 {\n",
       "            background-color:  #3c4ec2;\n",
       "            color:  #f1f1f1;\n",
       "        }    #T_7b5dcaf8_1846_11ea_bc11_34363bccd3acrow9_col2 {\n",
       "            background-color:  #4055c8;\n",
       "            color:  #f1f1f1;\n",
       "        }    #T_7b5dcaf8_1846_11ea_bc11_34363bccd3acrow9_col3 {\n",
       "            background-color:  #e6d7cf;\n",
       "            color:  #000000;\n",
       "        }    #T_7b5dcaf8_1846_11ea_bc11_34363bccd3acrow9_col4 {\n",
       "            background-color:  #485fd1;\n",
       "            color:  #f1f1f1;\n",
       "        }    #T_7b5dcaf8_1846_11ea_bc11_34363bccd3acrow9_col5 {\n",
       "            background-color:  #4055c8;\n",
       "            color:  #f1f1f1;\n",
       "        }    #T_7b5dcaf8_1846_11ea_bc11_34363bccd3acrow9_col6 {\n",
       "            background-color:  #485fd1;\n",
       "            color:  #f1f1f1;\n",
       "        }    #T_7b5dcaf8_1846_11ea_bc11_34363bccd3acrow9_col7 {\n",
       "            background-color:  #3f53c6;\n",
       "            color:  #f1f1f1;\n",
       "        }    #T_7b5dcaf8_1846_11ea_bc11_34363bccd3acrow9_col8 {\n",
       "            background-color:  #3f53c6;\n",
       "            color:  #f1f1f1;\n",
       "        }    #T_7b5dcaf8_1846_11ea_bc11_34363bccd3acrow9_col9 {\n",
       "            background-color:  #b40426;\n",
       "            color:  #f1f1f1;\n",
       "        }</style><table id=\"T_7b5dcaf8_1846_11ea_bc11_34363bccd3ac\" ><thead>    <tr>        <th class=\"blank level0\" ></th>        <th class=\"col_heading level0 col0\" >failure</th>        <th class=\"col_heading level0 col1\" >metric1</th>        <th class=\"col_heading level0 col2\" >metric2</th>        <th class=\"col_heading level0 col3\" >metric3</th>        <th class=\"col_heading level0 col4\" >metric4</th>        <th class=\"col_heading level0 col5\" >metric5</th>        <th class=\"col_heading level0 col6\" >metric6</th>        <th class=\"col_heading level0 col7\" >metric7</th>        <th class=\"col_heading level0 col8\" >metric8</th>        <th class=\"col_heading level0 col9\" >metric9</th>    </tr></thead><tbody>\n",
       "                <tr>\n",
       "                        <th id=\"T_7b5dcaf8_1846_11ea_bc11_34363bccd3aclevel0_row0\" class=\"row_heading level0 row0\" >failure</th>\n",
       "                        <td id=\"T_7b5dcaf8_1846_11ea_bc11_34363bccd3acrow0_col0\" class=\"data row0 col0\" >1</td>\n",
       "                        <td id=\"T_7b5dcaf8_1846_11ea_bc11_34363bccd3acrow0_col1\" class=\"data row0 col1\" >0.00198348</td>\n",
       "                        <td id=\"T_7b5dcaf8_1846_11ea_bc11_34363bccd3acrow0_col2\" class=\"data row0 col2\" >0.0529016</td>\n",
       "                        <td id=\"T_7b5dcaf8_1846_11ea_bc11_34363bccd3acrow0_col3\" class=\"data row0 col3\" >-0.00094843</td>\n",
       "                        <td id=\"T_7b5dcaf8_1846_11ea_bc11_34363bccd3acrow0_col4\" class=\"data row0 col4\" >0.0673985</td>\n",
       "                        <td id=\"T_7b5dcaf8_1846_11ea_bc11_34363bccd3acrow0_col5\" class=\"data row0 col5\" >0.00226973</td>\n",
       "                        <td id=\"T_7b5dcaf8_1846_11ea_bc11_34363bccd3acrow0_col6\" class=\"data row0 col6\" >-0.000550324</td>\n",
       "                        <td id=\"T_7b5dcaf8_1846_11ea_bc11_34363bccd3acrow0_col7\" class=\"data row0 col7\" >0.119055</td>\n",
       "                        <td id=\"T_7b5dcaf8_1846_11ea_bc11_34363bccd3acrow0_col8\" class=\"data row0 col8\" >0.119055</td>\n",
       "                        <td id=\"T_7b5dcaf8_1846_11ea_bc11_34363bccd3acrow0_col9\" class=\"data row0 col9\" >0.00162157</td>\n",
       "            </tr>\n",
       "            <tr>\n",
       "                        <th id=\"T_7b5dcaf8_1846_11ea_bc11_34363bccd3aclevel0_row1\" class=\"row_heading level0 row1\" >metric1</th>\n",
       "                        <td id=\"T_7b5dcaf8_1846_11ea_bc11_34363bccd3acrow1_col0\" class=\"data row1 col0\" >0.00198348</td>\n",
       "                        <td id=\"T_7b5dcaf8_1846_11ea_bc11_34363bccd3acrow1_col1\" class=\"data row1 col1\" >1</td>\n",
       "                        <td id=\"T_7b5dcaf8_1846_11ea_bc11_34363bccd3acrow1_col2\" class=\"data row1 col2\" >-0.00424992</td>\n",
       "                        <td id=\"T_7b5dcaf8_1846_11ea_bc11_34363bccd3acrow1_col3\" class=\"data row1 col3\" >0.00370149</td>\n",
       "                        <td id=\"T_7b5dcaf8_1846_11ea_bc11_34363bccd3acrow1_col4\" class=\"data row1 col4\" >0.00183579</td>\n",
       "                        <td id=\"T_7b5dcaf8_1846_11ea_bc11_34363bccd3acrow1_col5\" class=\"data row1 col5\" >-0.00337588</td>\n",
       "                        <td id=\"T_7b5dcaf8_1846_11ea_bc11_34363bccd3acrow1_col6\" class=\"data row1 col6\" >-0.00152197</td>\n",
       "                        <td id=\"T_7b5dcaf8_1846_11ea_bc11_34363bccd3acrow1_col7\" class=\"data row1 col7\" >0.000150676</td>\n",
       "                        <td id=\"T_7b5dcaf8_1846_11ea_bc11_34363bccd3acrow1_col8\" class=\"data row1 col8\" >0.000150676</td>\n",
       "                        <td id=\"T_7b5dcaf8_1846_11ea_bc11_34363bccd3acrow1_col9\" class=\"data row1 col9\" >0.00112075</td>\n",
       "            </tr>\n",
       "            <tr>\n",
       "                        <th id=\"T_7b5dcaf8_1846_11ea_bc11_34363bccd3aclevel0_row2\" class=\"row_heading level0 row2\" >metric2</th>\n",
       "                        <td id=\"T_7b5dcaf8_1846_11ea_bc11_34363bccd3acrow2_col0\" class=\"data row2 col0\" >0.0529016</td>\n",
       "                        <td id=\"T_7b5dcaf8_1846_11ea_bc11_34363bccd3acrow2_col1\" class=\"data row2 col1\" >-0.00424992</td>\n",
       "                        <td id=\"T_7b5dcaf8_1846_11ea_bc11_34363bccd3acrow2_col2\" class=\"data row2 col2\" >1</td>\n",
       "                        <td id=\"T_7b5dcaf8_1846_11ea_bc11_34363bccd3acrow2_col3\" class=\"data row2 col3\" >-0.00261686</td>\n",
       "                        <td id=\"T_7b5dcaf8_1846_11ea_bc11_34363bccd3acrow2_col4\" class=\"data row2 col4\" >0.146593</td>\n",
       "                        <td id=\"T_7b5dcaf8_1846_11ea_bc11_34363bccd3acrow2_col5\" class=\"data row2 col5\" >-0.0139986</td>\n",
       "                        <td id=\"T_7b5dcaf8_1846_11ea_bc11_34363bccd3acrow2_col6\" class=\"data row2 col6\" >-0.0263496</td>\n",
       "                        <td id=\"T_7b5dcaf8_1846_11ea_bc11_34363bccd3acrow2_col7\" class=\"data row2 col7\" >0.141367</td>\n",
       "                        <td id=\"T_7b5dcaf8_1846_11ea_bc11_34363bccd3acrow2_col8\" class=\"data row2 col8\" >0.141367</td>\n",
       "                        <td id=\"T_7b5dcaf8_1846_11ea_bc11_34363bccd3acrow2_col9\" class=\"data row2 col9\" >-0.00273572</td>\n",
       "            </tr>\n",
       "            <tr>\n",
       "                        <th id=\"T_7b5dcaf8_1846_11ea_bc11_34363bccd3aclevel0_row3\" class=\"row_heading level0 row3\" >metric3</th>\n",
       "                        <td id=\"T_7b5dcaf8_1846_11ea_bc11_34363bccd3acrow3_col0\" class=\"data row3 col0\" >-0.00094843</td>\n",
       "                        <td id=\"T_7b5dcaf8_1846_11ea_bc11_34363bccd3acrow3_col1\" class=\"data row3 col1\" >0.00370149</td>\n",
       "                        <td id=\"T_7b5dcaf8_1846_11ea_bc11_34363bccd3acrow3_col2\" class=\"data row3 col2\" >-0.00261686</td>\n",
       "                        <td id=\"T_7b5dcaf8_1846_11ea_bc11_34363bccd3acrow3_col3\" class=\"data row3 col3\" >1</td>\n",
       "                        <td id=\"T_7b5dcaf8_1846_11ea_bc11_34363bccd3acrow3_col4\" class=\"data row3 col4\" >0.0974522</td>\n",
       "                        <td id=\"T_7b5dcaf8_1846_11ea_bc11_34363bccd3acrow3_col5\" class=\"data row3 col5\" >-0.0066964</td>\n",
       "                        <td id=\"T_7b5dcaf8_1846_11ea_bc11_34363bccd3acrow3_col6\" class=\"data row3 col6\" >0.00902703</td>\n",
       "                        <td id=\"T_7b5dcaf8_1846_11ea_bc11_34363bccd3acrow3_col7\" class=\"data row3 col7\" >-0.00188394</td>\n",
       "                        <td id=\"T_7b5dcaf8_1846_11ea_bc11_34363bccd3acrow3_col8\" class=\"data row3 col8\" >-0.00188394</td>\n",
       "                        <td id=\"T_7b5dcaf8_1846_11ea_bc11_34363bccd3acrow3_col9\" class=\"data row3 col9\" >0.532366</td>\n",
       "            </tr>\n",
       "            <tr>\n",
       "                        <th id=\"T_7b5dcaf8_1846_11ea_bc11_34363bccd3aclevel0_row4\" class=\"row_heading level0 row4\" >metric4</th>\n",
       "                        <td id=\"T_7b5dcaf8_1846_11ea_bc11_34363bccd3acrow4_col0\" class=\"data row4 col0\" >0.0673985</td>\n",
       "                        <td id=\"T_7b5dcaf8_1846_11ea_bc11_34363bccd3acrow4_col1\" class=\"data row4 col1\" >0.00183579</td>\n",
       "                        <td id=\"T_7b5dcaf8_1846_11ea_bc11_34363bccd3acrow4_col2\" class=\"data row4 col2\" >0.146593</td>\n",
       "                        <td id=\"T_7b5dcaf8_1846_11ea_bc11_34363bccd3acrow4_col3\" class=\"data row4 col3\" >0.0974522</td>\n",
       "                        <td id=\"T_7b5dcaf8_1846_11ea_bc11_34363bccd3acrow4_col4\" class=\"data row4 col4\" >1</td>\n",
       "                        <td id=\"T_7b5dcaf8_1846_11ea_bc11_34363bccd3acrow4_col5\" class=\"data row4 col5\" >-0.00977282</td>\n",
       "                        <td id=\"T_7b5dcaf8_1846_11ea_bc11_34363bccd3acrow4_col6\" class=\"data row4 col6\" >0.0248699</td>\n",
       "                        <td id=\"T_7b5dcaf8_1846_11ea_bc11_34363bccd3acrow4_col7\" class=\"data row4 col7\" >0.0456309</td>\n",
       "                        <td id=\"T_7b5dcaf8_1846_11ea_bc11_34363bccd3acrow4_col8\" class=\"data row4 col8\" >0.0456309</td>\n",
       "                        <td id=\"T_7b5dcaf8_1846_11ea_bc11_34363bccd3acrow4_col9\" class=\"data row4 col9\" >0.036069</td>\n",
       "            </tr>\n",
       "            <tr>\n",
       "                        <th id=\"T_7b5dcaf8_1846_11ea_bc11_34363bccd3aclevel0_row5\" class=\"row_heading level0 row5\" >metric5</th>\n",
       "                        <td id=\"T_7b5dcaf8_1846_11ea_bc11_34363bccd3acrow5_col0\" class=\"data row5 col0\" >0.00226973</td>\n",
       "                        <td id=\"T_7b5dcaf8_1846_11ea_bc11_34363bccd3acrow5_col1\" class=\"data row5 col1\" >-0.00337588</td>\n",
       "                        <td id=\"T_7b5dcaf8_1846_11ea_bc11_34363bccd3acrow5_col2\" class=\"data row5 col2\" >-0.0139986</td>\n",
       "                        <td id=\"T_7b5dcaf8_1846_11ea_bc11_34363bccd3acrow5_col3\" class=\"data row5 col3\" >-0.0066964</td>\n",
       "                        <td id=\"T_7b5dcaf8_1846_11ea_bc11_34363bccd3acrow5_col4\" class=\"data row5 col4\" >-0.00977282</td>\n",
       "                        <td id=\"T_7b5dcaf8_1846_11ea_bc11_34363bccd3acrow5_col5\" class=\"data row5 col5\" >1</td>\n",
       "                        <td id=\"T_7b5dcaf8_1846_11ea_bc11_34363bccd3acrow5_col6\" class=\"data row5 col6\" >-0.0170494</td>\n",
       "                        <td id=\"T_7b5dcaf8_1846_11ea_bc11_34363bccd3acrow5_col7\" class=\"data row5 col7\" >-0.00938373</td>\n",
       "                        <td id=\"T_7b5dcaf8_1846_11ea_bc11_34363bccd3acrow5_col8\" class=\"data row5 col8\" >-0.00938373</td>\n",
       "                        <td id=\"T_7b5dcaf8_1846_11ea_bc11_34363bccd3acrow5_col9\" class=\"data row5 col9\" >0.00594942</td>\n",
       "            </tr>\n",
       "            <tr>\n",
       "                        <th id=\"T_7b5dcaf8_1846_11ea_bc11_34363bccd3aclevel0_row6\" class=\"row_heading level0 row6\" >metric6</th>\n",
       "                        <td id=\"T_7b5dcaf8_1846_11ea_bc11_34363bccd3acrow6_col0\" class=\"data row6 col0\" >-0.000550324</td>\n",
       "                        <td id=\"T_7b5dcaf8_1846_11ea_bc11_34363bccd3acrow6_col1\" class=\"data row6 col1\" >-0.00152197</td>\n",
       "                        <td id=\"T_7b5dcaf8_1846_11ea_bc11_34363bccd3acrow6_col2\" class=\"data row6 col2\" >-0.0263496</td>\n",
       "                        <td id=\"T_7b5dcaf8_1846_11ea_bc11_34363bccd3acrow6_col3\" class=\"data row6 col3\" >0.00902703</td>\n",
       "                        <td id=\"T_7b5dcaf8_1846_11ea_bc11_34363bccd3acrow6_col4\" class=\"data row6 col4\" >0.0248699</td>\n",
       "                        <td id=\"T_7b5dcaf8_1846_11ea_bc11_34363bccd3acrow6_col5\" class=\"data row6 col5\" >-0.0170494</td>\n",
       "                        <td id=\"T_7b5dcaf8_1846_11ea_bc11_34363bccd3acrow6_col6\" class=\"data row6 col6\" >1</td>\n",
       "                        <td id=\"T_7b5dcaf8_1846_11ea_bc11_34363bccd3acrow6_col7\" class=\"data row6 col7\" >-0.0122068</td>\n",
       "                        <td id=\"T_7b5dcaf8_1846_11ea_bc11_34363bccd3acrow6_col8\" class=\"data row6 col8\" >-0.0122068</td>\n",
       "                        <td id=\"T_7b5dcaf8_1846_11ea_bc11_34363bccd3acrow6_col9\" class=\"data row6 col9\" >0.0211525</td>\n",
       "            </tr>\n",
       "            <tr>\n",
       "                        <th id=\"T_7b5dcaf8_1846_11ea_bc11_34363bccd3aclevel0_row7\" class=\"row_heading level0 row7\" >metric7</th>\n",
       "                        <td id=\"T_7b5dcaf8_1846_11ea_bc11_34363bccd3acrow7_col0\" class=\"data row7 col0\" >0.119055</td>\n",
       "                        <td id=\"T_7b5dcaf8_1846_11ea_bc11_34363bccd3acrow7_col1\" class=\"data row7 col1\" >0.000150676</td>\n",
       "                        <td id=\"T_7b5dcaf8_1846_11ea_bc11_34363bccd3acrow7_col2\" class=\"data row7 col2\" >0.141367</td>\n",
       "                        <td id=\"T_7b5dcaf8_1846_11ea_bc11_34363bccd3acrow7_col3\" class=\"data row7 col3\" >-0.00188394</td>\n",
       "                        <td id=\"T_7b5dcaf8_1846_11ea_bc11_34363bccd3acrow7_col4\" class=\"data row7 col4\" >0.0456309</td>\n",
       "                        <td id=\"T_7b5dcaf8_1846_11ea_bc11_34363bccd3acrow7_col5\" class=\"data row7 col5\" >-0.00938373</td>\n",
       "                        <td id=\"T_7b5dcaf8_1846_11ea_bc11_34363bccd3acrow7_col6\" class=\"data row7 col6\" >-0.0122068</td>\n",
       "                        <td id=\"T_7b5dcaf8_1846_11ea_bc11_34363bccd3acrow7_col7\" class=\"data row7 col7\" >1</td>\n",
       "                        <td id=\"T_7b5dcaf8_1846_11ea_bc11_34363bccd3acrow7_col8\" class=\"data row7 col8\" >1</td>\n",
       "                        <td id=\"T_7b5dcaf8_1846_11ea_bc11_34363bccd3acrow7_col9\" class=\"data row7 col9\" >0.00686067</td>\n",
       "            </tr>\n",
       "            <tr>\n",
       "                        <th id=\"T_7b5dcaf8_1846_11ea_bc11_34363bccd3aclevel0_row8\" class=\"row_heading level0 row8\" >metric8</th>\n",
       "                        <td id=\"T_7b5dcaf8_1846_11ea_bc11_34363bccd3acrow8_col0\" class=\"data row8 col0\" >0.119055</td>\n",
       "                        <td id=\"T_7b5dcaf8_1846_11ea_bc11_34363bccd3acrow8_col1\" class=\"data row8 col1\" >0.000150676</td>\n",
       "                        <td id=\"T_7b5dcaf8_1846_11ea_bc11_34363bccd3acrow8_col2\" class=\"data row8 col2\" >0.141367</td>\n",
       "                        <td id=\"T_7b5dcaf8_1846_11ea_bc11_34363bccd3acrow8_col3\" class=\"data row8 col3\" >-0.00188394</td>\n",
       "                        <td id=\"T_7b5dcaf8_1846_11ea_bc11_34363bccd3acrow8_col4\" class=\"data row8 col4\" >0.0456309</td>\n",
       "                        <td id=\"T_7b5dcaf8_1846_11ea_bc11_34363bccd3acrow8_col5\" class=\"data row8 col5\" >-0.00938373</td>\n",
       "                        <td id=\"T_7b5dcaf8_1846_11ea_bc11_34363bccd3acrow8_col6\" class=\"data row8 col6\" >-0.0122068</td>\n",
       "                        <td id=\"T_7b5dcaf8_1846_11ea_bc11_34363bccd3acrow8_col7\" class=\"data row8 col7\" >1</td>\n",
       "                        <td id=\"T_7b5dcaf8_1846_11ea_bc11_34363bccd3acrow8_col8\" class=\"data row8 col8\" >1</td>\n",
       "                        <td id=\"T_7b5dcaf8_1846_11ea_bc11_34363bccd3acrow8_col9\" class=\"data row8 col9\" >0.00686067</td>\n",
       "            </tr>\n",
       "            <tr>\n",
       "                        <th id=\"T_7b5dcaf8_1846_11ea_bc11_34363bccd3aclevel0_row9\" class=\"row_heading level0 row9\" >metric9</th>\n",
       "                        <td id=\"T_7b5dcaf8_1846_11ea_bc11_34363bccd3acrow9_col0\" class=\"data row9 col0\" >0.00162157</td>\n",
       "                        <td id=\"T_7b5dcaf8_1846_11ea_bc11_34363bccd3acrow9_col1\" class=\"data row9 col1\" >0.00112075</td>\n",
       "                        <td id=\"T_7b5dcaf8_1846_11ea_bc11_34363bccd3acrow9_col2\" class=\"data row9 col2\" >-0.00273572</td>\n",
       "                        <td id=\"T_7b5dcaf8_1846_11ea_bc11_34363bccd3acrow9_col3\" class=\"data row9 col3\" >0.532366</td>\n",
       "                        <td id=\"T_7b5dcaf8_1846_11ea_bc11_34363bccd3acrow9_col4\" class=\"data row9 col4\" >0.036069</td>\n",
       "                        <td id=\"T_7b5dcaf8_1846_11ea_bc11_34363bccd3acrow9_col5\" class=\"data row9 col5\" >0.00594942</td>\n",
       "                        <td id=\"T_7b5dcaf8_1846_11ea_bc11_34363bccd3acrow9_col6\" class=\"data row9 col6\" >0.0211525</td>\n",
       "                        <td id=\"T_7b5dcaf8_1846_11ea_bc11_34363bccd3acrow9_col7\" class=\"data row9 col7\" >0.00686067</td>\n",
       "                        <td id=\"T_7b5dcaf8_1846_11ea_bc11_34363bccd3acrow9_col8\" class=\"data row9 col8\" >0.00686067</td>\n",
       "                        <td id=\"T_7b5dcaf8_1846_11ea_bc11_34363bccd3acrow9_col9\" class=\"data row9 col9\" >1</td>\n",
       "            </tr>\n",
       "    </tbody></table>"
      ],
      "text/plain": [
       "<pandas.io.formats.style.Styler at 0x10c03bb50>"
      ]
     },
     "execution_count": 7,
     "metadata": {},
     "output_type": "execute_result"
    }
   ],
   "source": [
    "corr = df.corr()\n",
    "corr.style.background_gradient(cmap='coolwarm')"
   ]
  },
  {
   "cell_type": "markdown",
   "metadata": {},
   "source": [
    "It appears the `metric7` and `metric8` are perfectly correlated with eachother. I will exclude `metric8` from further analysis. None of the variables are particularly well correlated with `failure`. It is interesting that `metric3` and `metric9` have a relatively strong correlation."
   ]
  },
  {
   "cell_type": "code",
   "execution_count": 8,
   "metadata": {},
   "outputs": [],
   "source": [
    "df.drop(columns=['metric8'], inplace=True)"
   ]
  },
  {
   "cell_type": "markdown",
   "metadata": {},
   "source": [
    "## Model Building\n",
    "\n",
    "Lets try training up some classificaiton models. Because there is such an imbalance in the target variable `failure` some care has to be taken in data split for model training, testing and validation. Also, some thought needs to be put into the correct evaluation metric. Accuracy is the wrong metric because a classifier that predicts no failure every time will have an accuracy above 99%."
   ]
  },
  {
   "cell_type": "code",
   "execution_count": 9,
   "metadata": {},
   "outputs": [
    {
     "name": "stderr",
     "output_type": "stream",
     "text": [
      "/Users/dueghis/opt/anaconda3/lib/python3.7/site-packages/sklearn/utils/deprecation.py:144: FutureWarning: The sklearn.neighbors.base module is  deprecated in version 0.22 and will be removed in version 0.24. The corresponding classes / functions should instead be imported from sklearn.neighbors. Anything that cannot be imported from sklearn.neighbors is now part of the private API.\n",
      "  warnings.warn(message, FutureWarning)\n",
      "/Users/dueghis/opt/anaconda3/lib/python3.7/site-packages/sklearn/utils/deprecation.py:144: FutureWarning: The sklearn.ensemble.bagging module is  deprecated in version 0.22 and will be removed in version 0.24. The corresponding classes / functions should instead be imported from sklearn.ensemble. Anything that cannot be imported from sklearn.ensemble is now part of the private API.\n",
      "  warnings.warn(message, FutureWarning)\n",
      "/Users/dueghis/opt/anaconda3/lib/python3.7/site-packages/sklearn/utils/deprecation.py:144: FutureWarning: The sklearn.ensemble.base module is  deprecated in version 0.22 and will be removed in version 0.24. The corresponding classes / functions should instead be imported from sklearn.ensemble. Anything that cannot be imported from sklearn.ensemble is now part of the private API.\n",
      "  warnings.warn(message, FutureWarning)\n",
      "/Users/dueghis/opt/anaconda3/lib/python3.7/site-packages/sklearn/utils/deprecation.py:144: FutureWarning: The sklearn.ensemble.forest module is  deprecated in version 0.22 and will be removed in version 0.24. The corresponding classes / functions should instead be imported from sklearn.ensemble. Anything that cannot be imported from sklearn.ensemble is now part of the private API.\n",
      "  warnings.warn(message, FutureWarning)\n",
      "/Users/dueghis/opt/anaconda3/lib/python3.7/site-packages/sklearn/utils/deprecation.py:144: FutureWarning: The sklearn.utils.testing module is  deprecated in version 0.22 and will be removed in version 0.24. The corresponding classes / functions should instead be imported from sklearn.utils. Anything that cannot be imported from sklearn.utils is now part of the private API.\n",
      "  warnings.warn(message, FutureWarning)\n",
      "/Users/dueghis/opt/anaconda3/lib/python3.7/site-packages/sklearn/utils/deprecation.py:144: FutureWarning: The sklearn.metrics.classification module is  deprecated in version 0.22 and will be removed in version 0.24. The corresponding classes / functions should instead be imported from sklearn.metrics. Anything that cannot be imported from sklearn.metrics is now part of the private API.\n",
      "  warnings.warn(message, FutureWarning)\n"
     ]
    }
   ],
   "source": [
    "from imblearn.over_sampling import SMOTE, ADASYN\n",
    "from sklearn.model_selection import train_test_split \n",
    "from sklearn.metrics import confusion_matrix, classification_report, recall_score, plot_confusion_matrix, precision_score, f1_score\n",
    "from sklearn.preprocessing import StandardScaler\n",
    "\n",
    "# Different classifiers\n",
    "from sklearn.linear_model import LogisticRegression, SGDClassifier\n",
    "from sklearn.neural_network import MLPClassifier\n",
    "from sklearn.neighbors import KNeighborsClassifier\n",
    "from sklearn.svm import SVC\n",
    "from sklearn.gaussian_process import GaussianProcessClassifier\n",
    "from sklearn.gaussian_process.kernels import RBF\n",
    "from sklearn.tree import DecisionTreeClassifier\n",
    "from sklearn.ensemble import RandomForestClassifier, AdaBoostClassifier\n",
    "from sklearn.naive_bayes import GaussianNB\n",
    "from sklearn.discriminant_analysis import QuadraticDiscriminantAnalysis"
   ]
  },
  {
   "cell_type": "markdown",
   "metadata": {},
   "source": [
    "The idea here is to throw a bunch of different classifiers at the problem and see if one works well."
   ]
  },
  {
   "cell_type": "code",
   "execution_count": 10,
   "metadata": {},
   "outputs": [],
   "source": [
    "names = [\"Nearest Neighbors\", \"Decision Tree\", \"Random Forest\", \"Neural Net\", \"AdaBoost\",\n",
    "         \"Naive Bayes\", \"QDA\", \"Logistic Regression\", \"Stochastic Gradient Descent\"]\n",
    "\n",
    "classifiers = [\n",
    "    KNeighborsClassifier(3),\n",
    "    DecisionTreeClassifier(max_depth=5),\n",
    "    RandomForestClassifier(max_depth=5, n_estimators=10, max_features=1),\n",
    "    MLPClassifier(alpha=1, max_iter=1000),\n",
    "    AdaBoostClassifier(),\n",
    "    GaussianNB(),\n",
    "    QuadraticDiscriminantAnalysis(),\n",
    "    LogisticRegression(),\n",
    "    SGDClassifier()]"
   ]
  },
  {
   "cell_type": "markdown",
   "metadata": {},
   "source": [
    "Split our data into predictor variables `X` and response variable `y` and do the train/val/test split. Here we emply the SMOTE algorithm to oversample the minority class. Oversampling of the minority class is chosen because there are are so few instances of failures. We then also scale the resampled data and then do a test train split."
   ]
  },
  {
   "cell_type": "code",
   "execution_count": 11,
   "metadata": {},
   "outputs": [
    {
     "name": "stderr",
     "output_type": "stream",
     "text": [
      "/Users/dueghis/opt/anaconda3/lib/python3.7/site-packages/sklearn/utils/deprecation.py:87: FutureWarning: Function safe_indexing is deprecated; safe_indexing is deprecated in version 0.22 and will be removed in version 0.24.\n",
      "  warnings.warn(msg, category=FutureWarning)\n"
     ]
    }
   ],
   "source": [
    "y = df.failure\n",
    "\n",
    "df_train, df_test, y_train, y_test = train_test_split(df, y, test_size=0.2, random_state=1)\n",
    "\n",
    "df_train, df_val, y_train, y_val = train_test_split(df_train, y_train, test_size=0.2, random_state=1)\n",
    "\n",
    "# Remove device from X_train, X_test\n",
    "X_train = df_train.filter(regex='metric', axis='columns')\n",
    "X_val = df_val.filter(regex='metric', axis='columns')\n",
    "X_test = df_test.filter(regex='metric', axis='columns')\n",
    "\n",
    "# Rescale and oversample the train data\n",
    "scaler = StandardScaler().fit(X_train)\n",
    "X_train = scaler.transform(X_train)\n",
    "X_val = scaler.transform(X_val)\n",
    "\n",
    "# Oversample minority class\n",
    "X_resampled, y_resampled = SMOTE().fit_resample(X_train, y_train)\n",
    "\n",
    "# Scale the test data from the training data scaler\n",
    "X_test = scaler.transform(X_test)"
   ]
  },
  {
   "cell_type": "markdown",
   "metadata": {},
   "source": [
    "Now we loop over all over all of our classifiers and check the recall primarily but also to precision and the confusion matrix."
   ]
  },
  {
   "cell_type": "code",
   "execution_count": 12,
   "metadata": {
    "scrolled": false
   },
   "outputs": [
    {
     "name": "stdout",
     "output_type": "stream",
     "text": [
      "Nearest Neighbors\n",
      "training...\n",
      "predicting...\n",
      "scoring...\n",
      "Recall: 0.15789473684210525\n",
      "Precision: 0.01775147928994083\n"
     ]
    },
    {
     "data": {
      "image/png": "[encoded data removed]",
      "text/plain": [
       "<Figure size 432x288 with 2 Axes>"
      ]
     },
     "metadata": {
      "needs_background": "light"
     },
     "output_type": "display_data"
    },
    {
     "name": "stdout",
     "output_type": "stream",
     "text": [
      "Decision Tree\n",
      "training...\n",
      "predicting...\n",
      "scoring...\n",
      "Recall: 0.3684210526315789\n",
      "Precision: 0.006145741878841089\n"
     ]
    },
    {
     "data": {
      "image/png": "[encoded data removed]",
      "text/plain": [
       "<Figure size 432x288 with 2 Axes>"
      ]
     },
     "metadata": {
      "needs_background": "light"
     },
     "output_type": "display_data"
    },
    {
     "name": "stdout",
     "output_type": "stream",
     "text": [
      "Random Forest\n",
      "training...\n",
      "predicting...\n",
      "scoring...\n",
      "Recall: 0.5789473684210527\n",
      "Precision: 0.006931316950220542\n"
     ]
    },
    {
     "data": {
      "image/png": "[encoded data removed]",
      "text/plain": [
       "<Figure size 432x288 with 2 Axes>"
      ]
     },
     "metadata": {
      "needs_background": "light"
     },
     "output_type": "display_data"
    },
    {
     "name": "stdout",
     "output_type": "stream",
     "text": [
      "Neural Net\n",
      "training...\n",
      "predicting...\n",
      "scoring...\n",
      "Recall: 0.5789473684210527\n",
      "Precision: 0.00857365549493375\n"
     ]
    },
    {
     "data": {
      "image/png": "[encoded data removed]",
      "text/plain": [
       "<Figure size 432x288 with 2 Axes>"
      ]
     },
     "metadata": {
      "needs_background": "light"
     },
     "output_type": "display_data"
    },
    {
     "name": "stdout",
     "output_type": "stream",
     "text": [
      "AdaBoost\n",
      "training...\n",
      "predicting...\n",
      "scoring...\n",
      "Recall: 0.3684210526315789\n",
      "Precision: 0.0075107296137339056\n"
     ]
    },
    {
     "data": {
      "image/png": "[encoded data removed]",
      "text/plain": [
       "<Figure size 432x288 with 2 Axes>"
      ]
     },
     "metadata": {
      "needs_background": "light"
     },
     "output_type": "display_data"
    },
    {
     "name": "stdout",
     "output_type": "stream",
     "text": [
      "Naive Bayes\n",
      "training...\n",
      "predicting...\n",
      "scoring...\n",
      "Recall: 0.3684210526315789\n",
      "Precision: 0.0319634703196347\n"
     ]
    },
    {
     "data": {
      "image/png": "[encoded data removed]",
      "text/plain": [
       "<Figure size 432x288 with 2 Axes>"
      ]
     },
     "metadata": {
      "needs_background": "light"
     },
     "output_type": "display_data"
    },
    {
     "name": "stdout",
     "output_type": "stream",
     "text": [
      "QDA\n",
      "training...\n",
      "predicting...\n",
      "scoring...\n",
      "Recall: 0.3684210526315789\n",
      "Precision: 0.032407407407407406\n"
     ]
    },
    {
     "data": {
      "image/png": "[encoded data removed]",
      "text/plain": [
       "<Figure size 432x288 with 2 Axes>"
      ]
     },
     "metadata": {
      "needs_background": "light"
     },
     "output_type": "display_data"
    },
    {
     "name": "stdout",
     "output_type": "stream",
     "text": [
      "Logistic Regression\n",
      "training...\n",
      "predicting...\n",
      "scoring...\n",
      "Recall: 0.42105263157894735\n",
      "Precision: 0.011412268188302425\n"
     ]
    },
    {
     "data": {
      "image/png": "[encoded data removed]",
      "text/plain": [
       "<Figure size 432x288 with 2 Axes>"
      ]
     },
     "metadata": {
      "needs_background": "light"
     },
     "output_type": "display_data"
    },
    {
     "name": "stdout",
     "output_type": "stream",
     "text": [
      "Stochastic Gradient Descent\n",
      "training...\n",
      "predicting...\n",
      "scoring...\n",
      "Recall: 0.47368421052631576\n",
      "Precision: 0.010869565217391304\n"
     ]
    },
    {
     "data": {
      "image/png": "[encoded data removed]",
      "text/plain": [
       "<Figure size 432x288 with 2 Axes>"
      ]
     },
     "metadata": {
      "needs_background": "light"
     },
     "output_type": "display_data"
    }
   ],
   "source": [
    "# iterate over classifiers\n",
    "for name, clf in zip(names, classifiers):\n",
    "    print(name)\n",
    "    print('training...')\n",
    "    clf.fit(X_resampled, y_resampled)\n",
    "    print('predicting...')\n",
    "    predictions = clf.predict(X_val)\n",
    "    print('scoring...')\n",
    "    print('Recall: {}'.format(recall_score(y_val, predictions)))\n",
    "    print('Precision: {}'.format(precision_score(y_val, predictions)))\n",
    "    plot_confusion_matrix(clf, X_val, y_val)\n",
    "    plt.show()"
   ]
  },
  {
   "cell_type": "markdown",
   "metadata": {},
   "source": [
    "## Can we do better?\n",
    "The goal of the company is \"They would like to create a predictive maintenance solution to proactively identify when maintenance should be performed\". The predictive models that were developed above simply say if there has been a failure or not. In reality this likely isn't very useful in a proactive sense, but it was a nice warmup to the problem and to get a general sense of the data set.\n",
    "\n",
    "Ideally, a solution to this will not just tell that there is a failure, but also _how long_ until the failure will happen so there is time to schedule the needed maintenence. To do this we will engineer another column called `fails_n_days` and build a model to predict this value."
   ]
  },
  {
   "cell_type": "markdown",
   "metadata": {},
   "source": [
    "## Days to failure\n",
    "\n",
    "Now we are going to try and predict `fails_n_days`. To do this we develop a convenience function to engineer the near feature we are trying to predict."
   ]
  },
  {
   "cell_type": "code",
   "execution_count": 13,
   "metadata": {},
   "outputs": [],
   "source": [
    "def find_fails_n_days(df_device, days_to_fail=30):\n",
    "    '''Computes the number of days till a failure for a given device. Returns a boolean array where 1 indicates\n",
    "    a failure withing `days_to_fail` number of days and 0 otherwise.\n",
    "    \n",
    "    Input:\n",
    "        df_device: A dataframe of one device\n",
    "        days_to_fail: The number of days that you are looking ahead for a failure\n",
    "        \n",
    "    Return:\n",
    "        to_failure: A boolean array \n",
    "    '''\n",
    "    fail_date = df_device[df_device.failure == 1].index\n",
    "    if len(fail_date) < 1:\n",
    "        to_failure = np.zeros((len(df_device),))\n",
    "    else:\n",
    "        to_failure = []\n",
    "        for date in df_device.index:\n",
    "            observation = (fail_date - date).days\n",
    "            if observation > days_to_fail:\n",
    "                failure_boolean = 0\n",
    "            else:\n",
    "                failure_boolean = 1\n",
    "            to_failure.append(failure_boolean)\n",
    "    return to_failure"
   ]
  },
  {
   "cell_type": "code",
   "execution_count": 14,
   "metadata": {},
   "outputs": [],
   "source": [
    "initial_fails_n_days = np.zeros(len(df))\n",
    "df['fails_n_days'] = initial_fails_n_days\n",
    "for device in df.device.unique():\n",
    "    df_device = df[df.device == device]\n",
    "    device_fails_n_days = find_fails_n_days(df_device)\n",
    "    df.loc[df.device == device, ['fails_n_days']] = device_fails_n_days"
   ]
  },
  {
   "cell_type": "markdown",
   "metadata": {},
   "source": [
    "Lets take a look at how this feature turned out"
   ]
  },
  {
   "cell_type": "code",
   "execution_count": 15,
   "metadata": {},
   "outputs": [
    {
     "data": {
      "text/plain": [
       "0.0    121635\n",
       "1.0      2859\n",
       "Name: fails_n_days, dtype: int64"
      ]
     },
     "execution_count": 15,
     "metadata": {},
     "output_type": "execute_result"
    }
   ],
   "source": [
    "df.fails_n_days.value_counts()"
   ]
  },
  {
   "cell_type": "markdown",
   "metadata": {},
   "source": [
    "This minority of this new prediction column is still imballanced but it is much less imballanced than before. Also, it give some sense of _how long_ until a failure will occur which is the goal of this project.\n",
    "\n",
    "Lets again train some classification models and see how they do now."
   ]
  },
  {
   "cell_type": "code",
   "execution_count": 16,
   "metadata": {},
   "outputs": [],
   "source": [
    "# New predictor column\n",
    "y = df.fails_n_days\n",
    "\n",
    "df_train, df_test, y_train, y_test = train_test_split(df, y, test_size=0.2, random_state=1)\n",
    "\n",
    "df_train, df_val, y_train, y_val = train_test_split(df_train, y_train, test_size=0.2, random_state=1)\n",
    "\n",
    "# Remove device from X_train, X_test\n",
    "X_train = df_train.filter(regex='metric', axis='columns')\n",
    "X_val = df_val.filter(regex='metric', axis='columns')\n",
    "X_test = df_test.filter(regex='metric', axis='columns')\n",
    "\n",
    "# Rescale and oversample the train data\n",
    "scaler = StandardScaler().fit(X_train)\n",
    "X_train = scaler.transform(X_train)\n",
    "X_val = scaler.transform(X_val)\n",
    "\n",
    "# Scale the test data from the training data scaler\n",
    "X_test = scaler.transform(X_test)"
   ]
  },
  {
   "cell_type": "code",
   "execution_count": 17,
   "metadata": {
    "scrolled": true
   },
   "outputs": [
    {
     "name": "stdout",
     "output_type": "stream",
     "text": [
      "Nearest Neighbors\n",
      "training...\n",
      "predicting...\n",
      "scoring...\n",
      "Recall: 0.29411764705882354\n",
      "Precision: 0.693069306930693\n",
      "\n"
     ]
    },
    {
     "data": {
      "image/png": "[encoded data removed]",
      "text/plain": [
       "<Figure size 432x288 with 2 Axes>"
      ]
     },
     "metadata": {
      "needs_background": "light"
     },
     "output_type": "display_data"
    },
    {
     "name": "stdout",
     "output_type": "stream",
     "text": [
      "Decision Tree\n",
      "training...\n",
      "predicting...\n",
      "scoring...\n",
      "Recall: 0.1722689075630252\n",
      "Precision: 0.7961165048543689\n",
      "\n"
     ]
    },
    {
     "data": {
      "image/png": "[encoded data removed]",
      "text/plain": [
       "<Figure size 432x288 with 2 Axes>"
      ]
     },
     "metadata": {
      "needs_background": "light"
     },
     "output_type": "display_data"
    },
    {
     "name": "stdout",
     "output_type": "stream",
     "text": [
      "Random Forest\n",
      "training...\n",
      "predicting...\n",
      "scoring...\n",
      "Recall: 0.008403361344537815\n",
      "Precision: 1.0\n",
      "\n"
     ]
    },
    {
     "data": {
      "image/png": "[encoded data removed]",
      "text/plain": [
       "<Figure size 432x288 with 2 Axes>"
      ]
     },
     "metadata": {
      "needs_background": "light"
     },
     "output_type": "display_data"
    },
    {
     "name": "stdout",
     "output_type": "stream",
     "text": [
      "Neural Net\n",
      "training...\n",
      "predicting...\n",
      "scoring...\n",
      "Recall: 0.0\n",
      "Precision: 0.0\n",
      "\n"
     ]
    },
    {
     "name": "stderr",
     "output_type": "stream",
     "text": [
      "/Users/dueghis/opt/anaconda3/lib/python3.7/site-packages/sklearn/metrics/_classification.py:1268: UndefinedMetricWarning: Precision is ill-defined and being set to 0.0 due to no predicted samples. Use `zero_division` parameter to control this behavior.\n",
      "  _warn_prf(average, modifier, msg_start, len(result))\n"
     ]
    },
    {
     "data": {
      "image/png": "[encoded data removed]",
      "text/plain": [
       "<Figure size 432x288 with 2 Axes>"
      ]
     },
     "metadata": {
      "needs_background": "light"
     },
     "output_type": "display_data"
    },
    {
     "name": "stdout",
     "output_type": "stream",
     "text": [
      "AdaBoost\n",
      "training...\n",
      "predicting...\n",
      "scoring...\n",
      "Recall: 0.1092436974789916\n",
      "Precision: 0.5306122448979592\n",
      "\n"
     ]
    },
    {
     "data": {
      "image/png": "[encoded data removed]",
      "text/plain": [
       "<Figure size 432x288 with 2 Axes>"
      ]
     },
     "metadata": {
      "needs_background": "light"
     },
     "output_type": "display_data"
    },
    {
     "name": "stdout",
     "output_type": "stream",
     "text": [
      "Naive Bayes\n",
      "training...\n",
      "predicting...\n",
      "scoring...\n",
      "Recall: 0.15336134453781514\n",
      "Precision: 0.37244897959183676\n",
      "\n"
     ]
    },
    {
     "data": {
      "image/png": "[encoded data removed]",
      "text/plain": [
       "<Figure size 432x288 with 2 Axes>"
      ]
     },
     "metadata": {
      "needs_background": "light"
     },
     "output_type": "display_data"
    },
    {
     "name": "stdout",
     "output_type": "stream",
     "text": [
      "QDA\n",
      "training...\n",
      "predicting...\n",
      "scoring...\n",
      "Recall: 0.15336134453781514\n",
      "Precision: 0.36318407960199006\n",
      "\n"
     ]
    },
    {
     "data": {
      "image/png": "[encoded data removed]",
      "text/plain": [
       "<Figure size 432x288 with 2 Axes>"
      ]
     },
     "metadata": {
      "needs_background": "light"
     },
     "output_type": "display_data"
    },
    {
     "name": "stdout",
     "output_type": "stream",
     "text": [
      "Logistic Regression\n",
      "training...\n",
      "predicting...\n",
      "scoring...\n",
      "Recall: 0.012605042016806723\n",
      "Precision: 0.46153846153846156\n",
      "\n"
     ]
    },
    {
     "data": {
      "image/png": "[encoded data removed]",
      "text/plain": [
       "<Figure size 432x288 with 2 Axes>"
      ]
     },
     "metadata": {
      "needs_background": "light"
     },
     "output_type": "display_data"
    },
    {
     "name": "stdout",
     "output_type": "stream",
     "text": [
      "Stochastic Gradient Descent\n",
      "training...\n",
      "predicting...\n",
      "scoring...\n",
      "Recall: 0.0\n",
      "Precision: 0.0\n",
      "\n"
     ]
    },
    {
     "data": {
      "image/png": "[encoded data removed]",
      "text/plain": [
       "<Figure size 432x288 with 2 Axes>"
      ]
     },
     "metadata": {
      "needs_background": "light"
     },
     "output_type": "display_data"
    }
   ],
   "source": [
    "# iterate over classifiers\n",
    "for name, clf in zip(names, classifiers):\n",
    "    print(name)\n",
    "    print('training...')\n",
    "    clf.fit(X_train, y_train)\n",
    "    print('predicting...')\n",
    "    predictions = clf.predict(X_val)\n",
    "    print('scoring...')\n",
    "    print('Recall: {}'.format(recall_score(y_val, predictions)))\n",
    "    print('Precision: {}\\n'.format(precision_score(y_val, predictions)))\n",
    "    plot_confusion_matrix(clf, X_val, y_val)\n",
    "    plt.show()"
   ]
  },
  {
   "cell_type": "markdown",
   "metadata": {},
   "source": [
    "## Are we asking the right question?\n",
    "\n",
    "Are we evaluating this correctly? I think a more meaningful evaluation would be to sort devices into false positive, meaning a failure was predicted without one occuring, and then true positive with a difference between first predicted failure and actual predicted failure date and look and this."
   ]
  },
  {
   "cell_type": "code",
   "execution_count": 18,
   "metadata": {},
   "outputs": [],
   "source": [
    "def calculate_days_missed(df_device, predictions):\n",
    "    '''Calculate the difference between when a failure is pfirst predicted to occur and vs when it actually occurs\n",
    "    \n",
    "    Input:\n",
    "        df_device: A dataframe with all readings for a particular device\n",
    "        predictions: The boolean array that predicts when a failure will occur\n",
    "        \n",
    "    Return:\n",
    "        days_missed: The difference in days between a first prediction of a failure and the actual failure\n",
    "    '''\n",
    "    device_index = df_device.index\n",
    "    fail_date = df_device[df_device.failure == 1].index[0]\n",
    "    first_predicted_fail = next((i for i, x in enumerate(list(predictions)) if x), None)\n",
    "    first_predicted_fail_date = device_index[first_predicted_fail]\n",
    "    date_difference = fail_date - first_predicted_fail_date\n",
    "    days_missed = float(date_difference.days)\n",
    "    return days_missed\n",
    "\n",
    "def evaluate_device_classification(df_test, clf, scaler):\n",
    "    '''A convenince function to evaluate the performance of a classifier on a per device basis as \n",
    "    opposed to a per device and per day basis\n",
    "    \n",
    "    Input:\n",
    "        df_test: A dataframe with the test data\n",
    "        clf: The classification model that is being evaluated\n",
    "        scaler: A scaler object to scale the test data based on a training set\n",
    "        \n",
    "    Returns:\n",
    "        devices: A list of devices under test\n",
    "        device_fail_truth: A boolean array that shows if a device failed or not\n",
    "        device_fail_predictions: A boolean array that shows the predicted failure of a device\n",
    "        true_postive_error: An array with the number of days between when a failure was predicted \n",
    "                            vs when it actually occured\n",
    "    '''\n",
    "    true_postive_error = []\n",
    "    devices = []\n",
    "    device_fail_predictions = []\n",
    "    device_fail_truth = []\n",
    "    for device in df_test.device.unique():\n",
    "        devices.append(device)\n",
    "        df_device = df_test[df_test.device == device]\n",
    "        X_device = scaler.transform(df_device.filter(regex='metric', axis='columns'))\n",
    "        y_device = clf.predict(X_device)\n",
    "\n",
    "        # True positives\n",
    "        if sum(df_device.failure) > 0 and sum(y_device) > 0:\n",
    "            num_days_missed = calculate_days_missed(df_device, y_device)            \n",
    "            true_postive_error.append(num_days_missed)\n",
    "            device_fail_predictions.append(1)\n",
    "            device_fail_truth.append(1)\n",
    "        # False positives\n",
    "        elif sum(df_device.failure) == 0 and sum(y_device) > 0:\n",
    "            device_fail_predictions.append(1)\n",
    "            device_fail_truth.append(0)\n",
    "        # False negatives\n",
    "        elif sum(df_device.failure) > 0 and sum(y_device) == 0:\n",
    "            device_fail_predictions.append(0)\n",
    "            device_fail_truth.append(1)\n",
    "        # True negatives\n",
    "        else:\n",
    "            device_fail_predictions.append(0)\n",
    "            device_fail_truth.append(0)\n",
    "    return devices, device_fail_truth, device_fail_predictions, true_postive_error"
   ]
  },
  {
   "cell_type": "code",
   "execution_count": 23,
   "metadata": {
    "scrolled": false
   },
   "outputs": [
    {
     "name": "stdout",
     "output_type": "stream",
     "text": [
      "Nearest Neighbors\n",
      "training...\n",
      "Predicting for each device...\n",
      "Confusion matrix\n",
      "[[940  84]\n",
      " [  6  13]]\n",
      "\n",
      "Recall: 0.6842105263157895\n",
      "Precision: 0.13402061855670103\n",
      "Average days missed: 16.0\n",
      "Std days missed: 14.811637835992865\n",
      "\n",
      "Decision Tree\n",
      "training...\n",
      "Predicting for each device...\n",
      "Confusion matrix\n",
      "[[998  26]\n",
      " [ 15   4]]\n",
      "\n",
      "Recall: 0.21052631578947367\n",
      "Precision: 0.13333333333333333\n",
      "Average days missed: 4.0\n",
      "Std days missed: 6.363961030678928\n",
      "\n",
      "Random Forest\n",
      "training...\n",
      "Predicting for each device...\n",
      "Confusion matrix\n",
      "[[1020    4]\n",
      " [  18    1]]\n",
      "\n",
      "Recall: 0.05263157894736842\n",
      "Precision: 0.2\n",
      "Average days missed: 15.0\n",
      "Std days missed: 0.0\n",
      "\n",
      "Neural Net\n",
      "training...\n",
      "Predicting for each device...\n",
      "Confusion matrix\n",
      "[[1024    0]\n",
      " [  19    0]]\n",
      "\n",
      "Recall: 0.0\n",
      "Precision: 0.0\n",
      "Average days missed: nan\n",
      "Std days missed: nan\n",
      "\n",
      "AdaBoost\n",
      "training...\n"
     ]
    },
    {
     "name": "stderr",
     "output_type": "stream",
     "text": [
      "/Users/dueghis/opt/anaconda3/lib/python3.7/site-packages/sklearn/metrics/_classification.py:1268: UndefinedMetricWarning: Precision is ill-defined and being set to 0.0 due to no predicted samples. Use `zero_division` parameter to control this behavior.\n",
      "  _warn_prf(average, modifier, msg_start, len(result))\n",
      "/Users/dueghis/opt/anaconda3/lib/python3.7/site-packages/numpy/core/fromnumeric.py:3257: RuntimeWarning: Mean of empty slice.\n",
      "  out=out, **kwargs)\n",
      "/Users/dueghis/opt/anaconda3/lib/python3.7/site-packages/numpy/core/_methods.py:161: RuntimeWarning: invalid value encountered in double_scalars\n",
      "  ret = ret.dtype.type(ret / rcount)\n",
      "/Users/dueghis/opt/anaconda3/lib/python3.7/site-packages/numpy/core/_methods.py:217: RuntimeWarning: Degrees of freedom <= 0 for slice\n",
      "  keepdims=keepdims)\n",
      "/Users/dueghis/opt/anaconda3/lib/python3.7/site-packages/numpy/core/_methods.py:186: RuntimeWarning: invalid value encountered in true_divide\n",
      "  arrmean, rcount, out=arrmean, casting='unsafe', subok=False)\n",
      "/Users/dueghis/opt/anaconda3/lib/python3.7/site-packages/numpy/core/_methods.py:209: RuntimeWarning: invalid value encountered in double_scalars\n",
      "  ret = ret.dtype.type(ret / rcount)\n"
     ]
    },
    {
     "name": "stdout",
     "output_type": "stream",
     "text": [
      "Predicting for each device...\n",
      "Confusion matrix\n",
      "[[991  33]\n",
      " [ 17   2]]\n",
      "\n",
      "Recall: 0.10526315789473684\n",
      "Precision: 0.05714285714285714\n",
      "Average days missed: 0.0\n",
      "Std days missed: 0.0\n",
      "\n",
      "Naive Bayes\n",
      "training...\n",
      "Predicting for each device...\n",
      "Confusion matrix\n",
      "[[985  39]\n",
      " [ 13   6]]\n",
      "\n",
      "Recall: 0.3157894736842105\n",
      "Precision: 0.13333333333333333\n",
      "Average days missed: 0.6666666666666666\n",
      "Std days missed: 1.1055415967851334\n",
      "\n",
      "QDA\n",
      "training...\n",
      "Predicting for each device...\n",
      "Confusion matrix\n",
      "[[985  39]\n",
      " [ 13   6]]\n",
      "\n",
      "Recall: 0.3157894736842105\n",
      "Precision: 0.13333333333333333\n",
      "Average days missed: 0.6666666666666666\n",
      "Std days missed: 1.1055415967851334\n",
      "\n",
      "Logistic Regression\n",
      "training...\n",
      "Predicting for each device...\n",
      "Confusion matrix\n",
      "[[1018    6]\n",
      " [  19    0]]\n",
      "\n",
      "Recall: 0.0\n",
      "Precision: 0.0\n",
      "Average days missed: nan\n",
      "Std days missed: nan\n",
      "\n",
      "Stochastic Gradient Descent\n",
      "training...\n",
      "Predicting for each device...\n"
     ]
    },
    {
     "name": "stderr",
     "output_type": "stream",
     "text": [
      "/Users/dueghis/opt/anaconda3/lib/python3.7/site-packages/numpy/core/fromnumeric.py:3257: RuntimeWarning: Mean of empty slice.\n",
      "  out=out, **kwargs)\n",
      "/Users/dueghis/opt/anaconda3/lib/python3.7/site-packages/numpy/core/_methods.py:161: RuntimeWarning: invalid value encountered in double_scalars\n",
      "  ret = ret.dtype.type(ret / rcount)\n",
      "/Users/dueghis/opt/anaconda3/lib/python3.7/site-packages/numpy/core/_methods.py:217: RuntimeWarning: Degrees of freedom <= 0 for slice\n",
      "  keepdims=keepdims)\n",
      "/Users/dueghis/opt/anaconda3/lib/python3.7/site-packages/numpy/core/_methods.py:186: RuntimeWarning: invalid value encountered in true_divide\n",
      "  arrmean, rcount, out=arrmean, casting='unsafe', subok=False)\n",
      "/Users/dueghis/opt/anaconda3/lib/python3.7/site-packages/numpy/core/_methods.py:209: RuntimeWarning: invalid value encountered in double_scalars\n",
      "  ret = ret.dtype.type(ret / rcount)\n"
     ]
    },
    {
     "name": "stdout",
     "output_type": "stream",
     "text": [
      "Confusion matrix\n",
      "[[1011   13]\n",
      " [  15    4]]\n",
      "\n",
      "Recall: 0.21052631578947367\n",
      "Precision: 0.23529411764705882\n",
      "Average days missed: 0.75\n",
      "Std days missed: 1.299038105676658\n",
      "\n"
     ]
    }
   ],
   "source": [
    "for name, clf in zip(names, classifiers):\n",
    "    print(name)\n",
    "    print('training...')\n",
    "    clf.fit(X_train, y_train)\n",
    "\n",
    "    print('Predicting for each device...')\n",
    "    devices, device_fail_truth, device_fail_predictions, true_postive_error = evaluate_device_classification(df_val, clf, scaler)\n",
    "    \n",
    "    print('Confusion matrix')\n",
    "    print(confusion_matrix(device_fail_truth, device_fail_predictions))\n",
    "    print('\\nRecall: {}'.format(recall_score(device_fail_truth, device_fail_predictions)))\n",
    "    print('Precision: {}'.format(precision_score(device_fail_truth, device_fail_predictions)))\n",
    "    print('Average days missed: {}'.format(np.mean(true_postive_error)))\n",
    "    print('Std days missed: {}\\n'.format(np.std(true_postive_error)))"
   ]
  },
  {
   "cell_type": "markdown",
   "metadata": {},
   "source": [
    "So it appears that out of the box, Nearest Neighbors has the best recall and it also is able to predict that a failure will occur the farthest in the furture, 19 days on average. Lets do some hyperparameter tuning and see if we can make it even better."
   ]
  },
  {
   "cell_type": "code",
   "execution_count": 25,
   "metadata": {
    "scrolled": false
   },
   "outputs": [
    {
     "name": "stdout",
     "output_type": "stream",
     "text": [
      "\n",
      "Trying params: (1, 'uniform', 1)\n",
      "training...\n",
      "testing per device...\n",
      "Recall: 0.8947368421052632\n",
      "Confusion matrix\n",
      "[[858 166]\n",
      " [  2  17]]\n",
      "##### Best Recall: 0.8947368421052632\n",
      "\n",
      "\n",
      "Trying params: (1, 'uniform', 2)\n",
      "training...\n",
      "testing per device...\n",
      "Recall: 0.7894736842105263\n",
      "Confusion matrix\n",
      "[[853 171]\n",
      " [  4  15]]\n",
      "\n",
      "Trying params: (1, 'distance', 1)\n",
      "training...\n",
      "testing per device...\n",
      "Recall: 0.8947368421052632\n",
      "Confusion matrix\n",
      "[[858 166]\n",
      " [  2  17]]\n",
      "\n",
      "Trying params: (1, 'distance', 2)\n",
      "training...\n",
      "testing per device...\n",
      "Recall: 0.7894736842105263\n",
      "Confusion matrix\n",
      "[[853 171]\n",
      " [  4  15]]\n",
      "\n",
      "Trying params: (3, 'uniform', 1)\n",
      "training...\n",
      "testing per device...\n",
      "Recall: 0.7368421052631579\n",
      "Confusion matrix\n",
      "[[943  81]\n",
      " [  5  14]]\n",
      "\n",
      "Trying params: (3, 'uniform', 2)\n",
      "training...\n",
      "testing per device...\n",
      "Recall: 0.6842105263157895\n",
      "Confusion matrix\n",
      "[[940  84]\n",
      " [  6  13]]\n",
      "\n",
      "Trying params: (3, 'distance', 1)\n",
      "training...\n",
      "testing per device...\n",
      "Recall: 0.7894736842105263\n",
      "Confusion matrix\n",
      "[[912 112]\n",
      " [  4  15]]\n",
      "\n",
      "Trying params: (3, 'distance', 2)\n",
      "training...\n",
      "testing per device...\n",
      "Recall: 0.7368421052631579\n",
      "Confusion matrix\n",
      "[[905 119]\n",
      " [  5  14]]\n",
      "\n",
      "Trying params: (5, 'uniform', 1)\n",
      "training...\n",
      "testing per device...\n",
      "Recall: 0.47368421052631576\n",
      "Confusion matrix\n",
      "[[971  53]\n",
      " [ 10   9]]\n",
      "\n",
      "Trying params: (5, 'uniform', 2)\n",
      "training...\n",
      "testing per device...\n",
      "Recall: 0.5263157894736842\n",
      "Confusion matrix\n",
      "[[976  48]\n",
      " [  9  10]]\n",
      "\n",
      "Trying params: (5, 'distance', 1)\n",
      "training...\n",
      "testing per device...\n",
      "Recall: 0.7368421052631579\n",
      "Confusion matrix\n",
      "[[940  84]\n",
      " [  5  14]]\n",
      "\n",
      "Trying params: (5, 'distance', 2)\n",
      "training...\n",
      "testing per device...\n",
      "Recall: 0.7368421052631579\n",
      "Confusion matrix\n",
      "[[940  84]\n",
      " [  5  14]]\n"
     ]
    }
   ],
   "source": [
    "import itertools\n",
    "grid_n_neighbors = [1, 3, 5]\n",
    "grid_weights = ['uniform', 'distance']\n",
    "grid_p = [1, 2]\n",
    "grid_params = [grid_n_neighbors, grid_weights, grid_p]\n",
    "best_score = 0\n",
    "best_params = None\n",
    "best_true_positive_error = None\n",
    "\n",
    "for params in itertools.product(*grid_params):\n",
    "    print('\\nTrying params: {}'.format(params))\n",
    "    n_neighbors = params[0]\n",
    "    weights = params[1]\n",
    "    algorithm = 'auto'\n",
    "    p = params[2]\n",
    "    n_jobs = -1\n",
    "    clf = KNeighborsClassifier(\n",
    "        n_neighbors=n_neighbors,\n",
    "        weights=weights,\n",
    "        algorithm=algorithm,\n",
    "        p=p,\n",
    "        n_jobs=n_jobs\n",
    "    )\n",
    "    print('training...')\n",
    "    clf.fit(X_train, y_train)\n",
    "    print('testing per device...')\n",
    "    devices, device_fail_truth, device_fail_predictions, true_postive_error = evaluate_device_classification(df_val, clf, scaler)\n",
    "    score = recall_score(device_fail_truth, device_fail_predictions)\n",
    "    print('Recall: {}'.format(score))\n",
    "    print('Confusion matrix')\n",
    "    print(confusion_matrix(device_fail_truth, device_fail_predictions))\n",
    "    if score > best_score:\n",
    "        print('##### Best Recall: {}\\n'.format(score))\n",
    "        best_score = score\n",
    "        best_params = params\n",
    "        best_true_positive_error = true_postive_error"
   ]
  },
  {
   "cell_type": "markdown",
   "metadata": {},
   "source": [
    "OK we have found our best parameters, lets see how it does on the test data."
   ]
  },
  {
   "cell_type": "code",
   "execution_count": 27,
   "metadata": {},
   "outputs": [],
   "source": [
    "# New predictor column\n",
    "y = df.fails_n_days\n",
    "\n",
    "df_train, df_test, y_train, y_test = train_test_split(df, y, test_size=0.2, random_state=1)\n",
    "\n",
    "# Remove device from X_train, X_test\n",
    "X_train = df_train.filter(regex='metric', axis='columns')\n",
    "X_test = df_test.filter(regex='metric', axis='columns')\n",
    "\n",
    "# Rescale the train data\n",
    "scaler = StandardScaler().fit(X_train)\n",
    "X_train = scaler.transform(X_train)\n",
    "\n",
    "# Scale the test data from the training data scaler\n",
    "X_test = scaler.transform(X_test)"
   ]
  },
  {
   "cell_type": "code",
   "execution_count": 28,
   "metadata": {},
   "outputs": [
    {
     "name": "stdout",
     "output_type": "stream",
     "text": [
      "training...\n",
      "testing per device...\n",
      "Recall: 0.8\n",
      "Confusion matrix\n",
      "[[873 173]\n",
      " [  4  16]]\n"
     ]
    }
   ],
   "source": [
    "clf = KNeighborsClassifier(\n",
    "        n_neighbors=1,\n",
    "        weights='uniform',\n",
    "        algorithm='auto',\n",
    "        p=1,\n",
    "        n_jobs=n_jobs\n",
    "    )\n",
    "print('training...')\n",
    "clf.fit(X_train, y_train)\n",
    "print('testing per device...')\n",
    "devices, device_fail_truth, device_fail_predictions, true_postive_error = evaluate_device_classification(df_test, clf, scaler)\n",
    "score = recall_score(device_fail_truth, device_fail_predictions)\n",
    "print('Recall: {}'.format(score))\n",
    "print('Confusion matrix')\n",
    "print(confusion_matrix(device_fail_truth, device_fail_predictions))"
   ]
  },
  {
   "cell_type": "code",
   "execution_count": 32,
   "metadata": {},
   "outputs": [
    {
     "name": "stdout",
     "output_type": "stream",
     "text": [
      "38.25\n"
     ]
    },
    {
     "data": {
      "text/plain": [
       "Text(0.5, 0, 'Days to Fail')"
      ]
     },
     "execution_count": 32,
     "metadata": {},
     "output_type": "execute_result"
    },
    {
     "data": {
      "image/png": "[encoded data removed]",
      "text/plain": [
       "<Figure size 432x288 with 1 Axes>"
      ]
     },
     "metadata": {
      "needs_background": "light"
     },
     "output_type": "display_data"
    }
   ],
   "source": [
    "pd.DataFrame(true_postive_error).hist()\n",
    "print(np.mean(true_postive_error))\n",
    "plt.xlabel('Days to Fail')"
   ]
  },
  {
   "cell_type": "markdown",
   "metadata": {},
   "source": [
    "It appears that there is a wide variety in the predictive power of the model. The average lead time to failure is 38 days but tthere are some instances where a failure was predicted over 50 days into the future. This may or may not be helpful for the business."
   ]
  },
  {
   "cell_type": "markdown",
   "metadata": {},
   "source": [
    "## Final thoughts\n",
    "\n",
    "This was a first pass at a predictive maintenence solution. It seems to have worked in the sense that this model gave guidance to how long a device had until a failure based on the different metrics. Before I would be comfortable delivering this as a final model, I would like to understand the respective penalty between predicting a failure that wont occur and not predicting a failure that will occur. Understand these costs in the greatest detail will allow for the most finlly tuned model possible.\n",
    "\n",
    "Also, this is just one method to attempt to solve this problem. Other methods could be to employ survival analysis in the form of a Cox Regression. Also some kind of RNN could have been developed to see if it performed better than the classical machine learning methods that were employed. The solution to a data science problem can always be improved in any number of ways."
   ]
  }
 ],
 "metadata": {
  "kernelspec": {
   "display_name": "Python 3",
   "language": "python",
   "name": "python3"
  },
  "language_info": {
   "codemirror_mode": {
    "name": "ipython",
    "version": 3
   },
   "file_extension": ".py",
   "mimetype": "text/x-python",
   "name": "python",
   "nbconvert_exporter": "python",
   "pygments_lexer": "ipython3",
   "version": "3.7.4"
  }
 },
 "nbformat": 4,
 "nbformat_minor": 2
}
